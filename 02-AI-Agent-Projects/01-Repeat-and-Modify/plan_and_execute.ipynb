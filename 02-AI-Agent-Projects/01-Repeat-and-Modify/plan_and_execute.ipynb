{
 "cells": [
  {
   "cell_type": "markdown",
   "id": "f50dca97",
   "metadata": {},
   "source": [
    "# Plan and Execute Agent"
   ]
  },
  {
   "cell_type": "markdown",
   "id": "5d355121",
   "metadata": {},
   "source": [
    "## Import"
   ]
  },
  {
   "cell_type": "code",
   "execution_count": 1,
   "id": "6eb243fa",
   "metadata": {},
   "outputs": [],
   "source": [
    "import os\n",
    "from dotenv import load_dotenv\n",
    "\n",
    "# define Actor Agent\n",
    "from langchain_community.tools.tavily_search import TavilySearchResults\n",
    "from langchain_openai import ChatOpenAI\n",
    "from langgraph.prebuilt import create_react_agent\n",
    "\n",
    "# define Planner Agent\n",
    "from pydantic import BaseModel, Field\n",
    "from typing import List\n",
    "from langchain_core.prompts import ChatPromptTemplate, MessagesPlaceholder\n",
    "from langchain_core.messages import (\n",
    "    SystemMessage,\n",
    "    HumanMessage,\n",
    "    AIMessage\n",
    ")\n",
    "\n",
    "# define RePlanner Agent\n",
    "from typing import Union\n",
    "\n",
    "# define Graph\n",
    "from typing import Annotated, Tuple\n",
    "from typing_extensions import TypedDict\n",
    "from langgraph.graph import StateGraph, START, END\n",
    "from operator import add"
   ]
  },
  {
   "cell_type": "markdown",
   "id": "c5a2951b",
   "metadata": {},
   "source": [
    "## Environment Vairables"
   ]
  },
  {
   "cell_type": "code",
   "execution_count": 2,
   "id": "50498bed",
   "metadata": {},
   "outputs": [
    {
     "data": {
      "text/plain": [
       "True"
      ]
     },
     "execution_count": 2,
     "metadata": {},
     "output_type": "execute_result"
    }
   ],
   "source": [
    "load_dotenv(os.path.join(\"..\", \"..\", \"config\", \".env\"))"
   ]
  },
  {
   "cell_type": "markdown",
   "id": "9bbc7448",
   "metadata": {},
   "source": [
    "## Implements"
   ]
  },
  {
   "cell_type": "markdown",
   "id": "3d32f228",
   "metadata": {},
   "source": [
    "### Step 1 : Actor Agent\n",
    "\n",
    "> ReAct 프롬프트 기반으로 동작하는 Agent에 'TavilyAI' 웹 검색 도구를 바인딩하여 계획에 따른 행동을 이행하는 Agent\n",
    "\n",
    "`create_react_agent()` : ReAct Agent를 생성해주는 사전 구축 함수"
   ]
  },
  {
   "cell_type": "code",
   "execution_count": 3,
   "id": "154a2072",
   "metadata": {},
   "outputs": [
    {
     "data": {
      "image/png": "[encoded data removed]",
      "text/plain": [
       "<langgraph.graph.state.CompiledStateGraph object at 0x11c39e710>"
      ]
     },
     "execution_count": 3,
     "metadata": {},
     "output_type": "execute_result"
    }
   ],
   "source": [
    "# define tools\n",
    "search_tool = TavilySearchResults(\n",
    "    max_results = 5,\n",
    "    search_depth=\"advanced\"\n",
    ")\n",
    "tools = [search_tool]\n",
    "\n",
    "# define react agent\n",
    "system_prompt = \"\"\"\n",
    "당신은 유능한 조력자 입니다. 한국어를 사용해 답변해주세요.\n",
    "\"\"\"\n",
    "llm = ChatOpenAI(\n",
    "    model=\"gpt-4o\",\n",
    "    temperature=0\n",
    ")\n",
    "actor = create_react_agent(\n",
    "    model=llm,\n",
    "    tools=tools,\n",
    "    prompt=system_prompt\n",
    ")\n",
    "\n",
    "actor"
   ]
  },
  {
   "cell_type": "markdown",
   "id": "905af94c",
   "metadata": {},
   "source": [
    "### Step 2 : Planner Agent\n",
    "\n",
    "> 사용자의 요청을 완수할 수 있는 일련의 행동 계획을 생성하는 Agent"
   ]
  },
  {
   "cell_type": "code",
   "execution_count": 4,
   "id": "931162bb",
   "metadata": {},
   "outputs": [],
   "source": [
    "# define llm response schema (plan)\n",
    "class PlanSchema(BaseModel):\n",
    "    \"\"\"\n",
    "    사용자 요청에 답변하기 위해 수립된 계획을 반환하기 위해 이 답변구조를 사용하세요.\n",
    "    \"\"\"\n",
    "    steps: List[str] = Field(\n",
    "        description=\"사용자의 요청을 완수하기 위한 일련의 계획 리스트, 반드시 실행 순서대로 작성되어야 한다.\"\n",
    "    )\n",
    "\n",
    "# define planner agent\n",
    "planning_prompt = ChatPromptTemplate.from_messages([\n",
    "    SystemMessage(\n",
    "        content=\"\"\"\n",
    "주어진 사용자 요청에 답변하기 위해 수행해야할 단계별 계획을 수립하세요.\n",
    "이 계획상의 각 단계는 수행해야할 과업을 포함해야하며, 모든 단계를 수행하였을 때 사용자의 요청에 대한 답변이 가능해야합니다.\n",
    "불필요한 단계는 포함시키지 마세요.\n",
    "한국어를 사용하세요.\n",
    "\"\"\"\n",
    "    ),\n",
    "    MessagesPlaceholder(variable_name=\"planing_request\")\n",
    "])\n",
    "llm = ChatOpenAI(\n",
    "    model=\"gpt-4o\",\n",
    "    temperature=0.8\n",
    ")\n",
    "llm_with_planschema_output = llm.with_structured_output(PlanSchema)\n",
    "planner_chain = planning_prompt | llm_with_planschema_output"
   ]
  },
  {
   "cell_type": "markdown",
   "id": "e57a513a",
   "metadata": {},
   "source": [
    "### Step 3 : Re-Planner Agent\n",
    "\n",
    "> 계획에 따라 수행한 Actor의 수행 결과를 확인하고, 계획을 수정하거나, 더 진행하지 않고 답변을 내놓을 지 결정"
   ]
  },
  {
   "cell_type": "code",
   "execution_count": 5,
   "id": "adcc9a49",
   "metadata": {},
   "outputs": [],
   "source": [
    "# define response schema\n",
    "class ResponseSchema(BaseModel):\n",
    "    \"\"\"\n",
    "    사용자 요청에 답변하기 위해서는 이 답변 형태를 사용하세요.\n",
    "    \"\"\"\n",
    "    answer: str = Field(description=\"사용자 요청에 따른 답변\")\n",
    "\n",
    "class ReplannerDecisionSchema(BaseModel):\n",
    "    replanner_decision: Union[PlanSchema, ResponseSchema] = Field(\n",
    "        description=\"\"\"\n",
    "다음으로 취해질 행동입니다.\n",
    "현재 생성된 답변으로 사용자에게 답변하기 위해서는 ResponseSchema 를 사용하세요.\n",
    "이 후 단계를 더 수행하거나, 도구를 사용하여 답변 개선이 필요하다면 PlanSchema 를 사용하세요.\n",
    "\"\"\"\n",
    "    )\n",
    "\n",
    "# define replaner agent\n",
    "replanner_prompt = ChatPromptTemplate.from_template(\n",
    "\"\"\"\n",
    "사용자의 요청에 답변하기 위해 '수립된 계획'과 '현재까지 진행한 단계와 그 결과'를 기반으로 다음의 임무를 수행하세요.\n",
    "\n",
    "임무: \n",
    "1. 현재 단계를 수행한 결과가 사용자 요청에 충분히 만족한 답변이라면 그대로 답변을 제공하세요.\n",
    "2. 계획을 수정할 필요가 있다면, 수정된 계획을 반환하세요.\n",
    "3. 계획의 수정없이 계획된 단계들을 더 수행해야한다고 판단된다면, 앞으로 더 진행할 단계들만 반환하세요.\n",
    "4. 반드시 한국어를 사용하세요.\n",
    "\n",
    "당신이 충족시켜야할 사용자의 요청은:\n",
    "{request}\n",
    "\n",
    "사용자 요청에 답변하기 위해 '수립된 계획'은:\n",
    "{plan}\n",
    "\n",
    "현재까지 진행한 단계와 그 결과는:\n",
    "{trajectory}\n",
    "\"\"\"\n",
    ")\n",
    "llm = ChatOpenAI(\n",
    "    model=\"gpt-4o\",\n",
    "    temperature=\"0.4\"\n",
    ")\n",
    "llm_with_replanershema_output = llm.with_structured_output(ReplannerDecisionSchema)\n",
    "replaner_chain = replanner_prompt | llm_with_replanershema_output"
   ]
  },
  {
   "cell_type": "markdown",
   "id": "fecc60fe",
   "metadata": {},
   "source": [
    "### Step 4 : Define Graph"
   ]
  },
  {
   "cell_type": "code",
   "execution_count": 9,
   "id": "48cd90ef",
   "metadata": {},
   "outputs": [],
   "source": [
    "# define state\n",
    "class State(TypedDict):\n",
    "    answer: str\n",
    "    plan: List[str]\n",
    "    trajectory: Annotated[List[Tuple], add]\n",
    "    request: str\n",
    "\n",
    "# define nodes\n",
    "def actor_node(state: State):\n",
    "    steps = state[\"plan\"]\n",
    "    user_request = state[\"request\"]\n",
    "\n",
    "    task_list = \"\\n\".join(f\"{i+1}. {step}\" for i, step in enumerate(steps))\n",
    "    current_step = f\"\\n\\n 당신이 현재 수행할 단계는: \\n1. {steps[0]}\"\n",
    "    prompt = \"당신이 수행할 행동 계획은: \" + task_list + current_step\n",
    "    \n",
    "    response = actor.invoke({\"messages\" : [HumanMessage(content=prompt)]})\n",
    "\n",
    "    return {\n",
    "        \"request\" : user_request,\n",
    "        \"plan\" : steps,\n",
    "        \"trajectory\" : [(steps[0], response[\"messages\"][-1].content)]\n",
    "    }\n",
    "\n",
    "def planner_node(state: State):\n",
    "    user_request = state['request']\n",
    "\n",
    "    response = planner_chain.invoke({\"planing_request\" : [\n",
    "        HumanMessage(\n",
    "            content=user_request\n",
    "        )\n",
    "    ]})\n",
    "\n",
    "    return {\n",
    "        \"request\" : user_request,\n",
    "        \"plan\" : response.steps\n",
    "    }\n",
    "\n",
    "def replanner_node(state: State):\n",
    "    response = replaner_chain.invoke(state)\n",
    "    if isinstance(response.replanner_decision, ResponseSchema):\n",
    "        return {\n",
    "            \"answer\" : response.replanner_decision.answer\n",
    "        }\n",
    "    else:\n",
    "        state[\"plan\"] = response.replanner_decision.steps\n",
    "        return state\n",
    "\n",
    "# define routing functions\n",
    "def should_continue(state: State):\n",
    "    if \"answer\" in state and state[\"answer\"]: return \"end\"\n",
    "    else: return \"actor\"\n",
    "\n",
    "# define graph builder\n",
    "workflow = StateGraph(State)\n",
    "\n",
    "# add nodes\n",
    "workflow.add_node(\"actor\", actor_node)\n",
    "workflow.add_node(\"planner\", planner_node)\n",
    "workflow.add_node(\"replanner\", replanner_node)\n",
    "\n",
    "# add edges\n",
    "workflow.add_edge(START, \"planner\")\n",
    "workflow.add_edge(\"planner\", \"actor\")\n",
    "workflow.add_edge(\"actor\", \"replanner\")\n",
    "workflow.add_conditional_edges(\n",
    "    \"replanner\",\n",
    "    should_continue,\n",
    "    {\n",
    "        \"end\" : END,\n",
    "        \"actor\" : \"actor\"\n",
    "    }\n",
    ")\n",
    "\n",
    "# compile graph\n",
    "app = workflow.compile()"
   ]
  },
  {
   "cell_type": "code",
   "execution_count": 7,
   "id": "e8a29d1b",
   "metadata": {},
   "outputs": [
    {
     "data": {
      "image/png": "[encoded data removed]",
      "text/plain": [
       "<IPython.core.display.Image object>"
      ]
     },
     "metadata": {},
     "output_type": "display_data"
    }
   ],
   "source": [
    "from IPython.display import Image, display\n",
    "\n",
    "display(Image(app.get_graph(xray=True).draw_mermaid_png()))"
   ]
  },
  {
   "cell_type": "markdown",
   "id": "90af7624",
   "metadata": {},
   "source": [
    "## Run"
   ]
  },
  {
   "cell_type": "code",
   "execution_count": 11,
   "id": "cbf2d8a4",
   "metadata": {},
   "outputs": [
    {
     "name": "stdout",
     "output_type": "stream",
     "text": [
      "trajectory []\n",
      "request 최근 발생한 이란-이스라엘 간 분쟁이 발생한 원인에 대해 설명해줘.\n",
      "============================================================================================================================================================================================================================================================================================================================================================================================\n",
      "plan ['최근 뉴스 및 신뢰할 수 있는 출처를 통해 이란과 이스라엘 간 분쟁 관련 사건을 조사한다.', '분쟁의 역사적 배경을 파악하기 위해 과거 이란-이스라엘 관계 및 주요 갈등 요인을 검토한다.', '최근 분쟁의 발단이 된 특정 사건이나 발언이 무엇인지 확인한다.', '양국의 정치적, 군사적, 경제적 이해관계와 관련된 요인을 분석하여 분쟁의 원인을 도출한다.', '국제 사회의 반응 및 개입 여부를 조사하여 분쟁의 확산 가능성을 평가한다.', '수집한 정보를 바탕으로 이란-이스라엘 간 분쟁의 원인에 대한 종합적인 설명을 작성한다.']\n",
      "trajectory []\n",
      "request 최근 발생한 이란-이스라엘 간 분쟁이 발생한 원인에 대해 설명해줘.\n",
      "============================================================================================================================================================================================================================================================================================================================================================================================\n",
      "plan ['최근 뉴스 및 신뢰할 수 있는 출처를 통해 이란과 이스라엘 간 분쟁 관련 사건을 조사한다.', '분쟁의 역사적 배경을 파악하기 위해 과거 이란-이스라엘 관계 및 주요 갈등 요인을 검토한다.', '최근 분쟁의 발단이 된 특정 사건이나 발언이 무엇인지 확인한다.', '양국의 정치적, 군사적, 경제적 이해관계와 관련된 요인을 분석하여 분쟁의 원인을 도출한다.', '국제 사회의 반응 및 개입 여부를 조사하여 분쟁의 확산 가능성을 평가한다.', '수집한 정보를 바탕으로 이란-이스라엘 간 분쟁의 원인에 대한 종합적인 설명을 작성한다.']\n",
      "trajectory [('최근 뉴스 및 신뢰할 수 있는 출처를 통해 이란과 이스라엘 간 분쟁 관련 사건을 조사한다.', '최근 이란과 이스라엘 간의 분쟁에 대한 주요 뉴스는 다음과 같습니다:\\n\\n1. **이스라엘과 하마스 간의 휴전 협상**: 이스라엘과 하마스 간의 휴전 협상이 교착 상태에 빠져 있으며, 가자 지구의 상황이 위기에 처해 있습니다. 이스라엘은 인질이 석방되지 않으면 가자 지구와의 휴전을 종료할 것이라고 밝혔습니다. (출처: [BBC News 코리아](https://www.bbc.com/korean/topics/cr50ykqw952t))\\n\\n2. **트럼프의 휴전 발표**: 도널드 트럼프 전 미국 대통령이 이스라엘과 이란 간의 전쟁이 공식적으로 종식되었다고 발표했습니다. 이란과 이스라엘 간의 물밑 협상이 있었으며, 이란은 경제 완화를 위해 먼저 휴전에 응한 것으로 보입니다. (출처: [YTN](https://www.youtube.com/watch?v=_-tlhHa6GyQ))\\n\\n3. **이란-이스라엘 휴전 발효**: 트럼프 전 대통령은 이란 핵 농축 시설 파괴 작전을 모니터링하며 이란-이스라엘 간의 휴전이 발효되었다고 발표했습니다. 이 휴전은 위험한 공습의 성과로 평가되고 있습니다. (출처: [BBC News 코리아](https://www.bbc.com/korean/articles/cx2kmpyywp7o))\\n\\n이러한 뉴스들은 최근 이란과 이스라엘 간의 분쟁 상황을 이해하는 데 중요한 정보를 제공합니다. 다음 단계로는 이 분쟁의 역사적 배경과 주요 갈등 요인을 검토하는 것이 필요합니다.')]\n",
      "request 최근 발생한 이란-이스라엘 간 분쟁이 발생한 원인에 대해 설명해줘.\n",
      "============================================================================================================================================================================================================================================================================================================================================================================================\n",
      "plan ['분쟁의 역사적 배경을 파악하기 위해 과거 이란-이스라엘 관계 및 주요 갈등 요인을 검토한다.', '최근 분쟁의 발단이 된 특정 사건이나 발언이 무엇인지 확인한다.', '양국의 정치적, 군사적, 경제적 이해관계와 관련된 요인을 분석하여 분쟁의 원인을 도출한다.', '국제 사회의 반응 및 개입 여부를 조사하여 분쟁의 확산 가능성을 평가한다.', '수집한 정보를 바탕으로 이란-이스라엘 간 분쟁의 원인에 대한 종합적인 설명을 작성한다.']\n",
      "trajectory [('최근 뉴스 및 신뢰할 수 있는 출처를 통해 이란과 이스라엘 간 분쟁 관련 사건을 조사한다.', '최근 이란과 이스라엘 간의 분쟁에 대한 주요 뉴스는 다음과 같습니다:\\n\\n1. **이스라엘과 하마스 간의 휴전 협상**: 이스라엘과 하마스 간의 휴전 협상이 교착 상태에 빠져 있으며, 가자 지구의 상황이 위기에 처해 있습니다. 이스라엘은 인질이 석방되지 않으면 가자 지구와의 휴전을 종료할 것이라고 밝혔습니다. (출처: [BBC News 코리아](https://www.bbc.com/korean/topics/cr50ykqw952t))\\n\\n2. **트럼프의 휴전 발표**: 도널드 트럼프 전 미국 대통령이 이스라엘과 이란 간의 전쟁이 공식적으로 종식되었다고 발표했습니다. 이란과 이스라엘 간의 물밑 협상이 있었으며, 이란은 경제 완화를 위해 먼저 휴전에 응한 것으로 보입니다. (출처: [YTN](https://www.youtube.com/watch?v=_-tlhHa6GyQ))\\n\\n3. **이란-이스라엘 휴전 발효**: 트럼프 전 대통령은 이란 핵 농축 시설 파괴 작전을 모니터링하며 이란-이스라엘 간의 휴전이 발효되었다고 발표했습니다. 이 휴전은 위험한 공습의 성과로 평가되고 있습니다. (출처: [BBC News 코리아](https://www.bbc.com/korean/articles/cx2kmpyywp7o))\\n\\n이러한 뉴스들은 최근 이란과 이스라엘 간의 분쟁 상황을 이해하는 데 중요한 정보를 제공합니다. 다음 단계로는 이 분쟁의 역사적 배경과 주요 갈등 요인을 검토하는 것이 필요합니다.'), ('최근 뉴스 및 신뢰할 수 있는 출처를 통해 이란과 이스라엘 간 분쟁 관련 사건을 조사한다.', '최근 이란과 이스라엘 간의 분쟁에 대한 주요 뉴스는 다음과 같습니다:\\n\\n1. **이스라엘과 하마스 간의 휴전 협상**: 이스라엘과 하마스 간의 휴전 협상이 교착 상태에 빠져 있으며, 가자 지구의 상황이 위기에 처해 있습니다. 이스라엘은 인질이 석방되지 않으면 가자 지구와의 휴전을 종료할 것이라고 밝혔습니다. (출처: [BBC News 코리아](https://www.bbc.com/korean/topics/cr50ykqw952t))\\n\\n2. **트럼프의 휴전 발표**: 도널드 트럼프 전 미국 대통령이 이스라엘과 이란 간의 전쟁이 공식적으로 종식되었다고 발표했습니다. 이란과 이스라엘 간의 물밑 협상이 있었으며, 이란은 경제 완화를 위해 먼저 휴전에 응한 것으로 보입니다. (출처: [YTN](https://www.youtube.com/watch?v=_-tlhHa6GyQ))\\n\\n3. **이란-이스라엘 휴전 발효**: 트럼프 전 대통령은 이란 핵 농축 시설 파괴 작전을 모니터링하며 이란-이스라엘 간의 휴전이 발효되었다고 발표했습니다. 이 휴전은 위험한 공습의 성과로 평가되고 있습니다. (출처: [BBC News 코리아](https://www.bbc.com/korean/articles/cx2kmpyywp7o))\\n\\n이러한 뉴스들은 최근 이란과 이스라엘 간의 분쟁 상황을 이해하는 데 중요한 정보를 제공합니다. 다음 단계로는 이 분쟁의 역사적 배경과 주요 갈등 요인을 검토하는 것이 필요합니다.')]\n",
      "request 최근 발생한 이란-이스라엘 간 분쟁이 발생한 원인에 대해 설명해줘.\n",
      "============================================================================================================================================================================================================================================================================================================================================================================================\n",
      "plan ['분쟁의 역사적 배경을 파악하기 위해 과거 이란-이스라엘 관계 및 주요 갈등 요인을 검토한다.', '최근 분쟁의 발단이 된 특정 사건이나 발언이 무엇인지 확인한다.', '양국의 정치적, 군사적, 경제적 이해관계와 관련된 요인을 분석하여 분쟁의 원인을 도출한다.', '국제 사회의 반응 및 개입 여부를 조사하여 분쟁의 확산 가능성을 평가한다.', '수집한 정보를 바탕으로 이란-이스라엘 간 분쟁의 원인에 대한 종합적인 설명을 작성한다.']\n",
      "trajectory [('최근 뉴스 및 신뢰할 수 있는 출처를 통해 이란과 이스라엘 간 분쟁 관련 사건을 조사한다.', '최근 이란과 이스라엘 간의 분쟁에 대한 주요 뉴스는 다음과 같습니다:\\n\\n1. **이스라엘과 하마스 간의 휴전 협상**: 이스라엘과 하마스 간의 휴전 협상이 교착 상태에 빠져 있으며, 가자 지구의 상황이 위기에 처해 있습니다. 이스라엘은 인질이 석방되지 않으면 가자 지구와의 휴전을 종료할 것이라고 밝혔습니다. (출처: [BBC News 코리아](https://www.bbc.com/korean/topics/cr50ykqw952t))\\n\\n2. **트럼프의 휴전 발표**: 도널드 트럼프 전 미국 대통령이 이스라엘과 이란 간의 전쟁이 공식적으로 종식되었다고 발표했습니다. 이란과 이스라엘 간의 물밑 협상이 있었으며, 이란은 경제 완화를 위해 먼저 휴전에 응한 것으로 보입니다. (출처: [YTN](https://www.youtube.com/watch?v=_-tlhHa6GyQ))\\n\\n3. **이란-이스라엘 휴전 발효**: 트럼프 전 대통령은 이란 핵 농축 시설 파괴 작전을 모니터링하며 이란-이스라엘 간의 휴전이 발효되었다고 발표했습니다. 이 휴전은 위험한 공습의 성과로 평가되고 있습니다. (출처: [BBC News 코리아](https://www.bbc.com/korean/articles/cx2kmpyywp7o))\\n\\n이러한 뉴스들은 최근 이란과 이스라엘 간의 분쟁 상황을 이해하는 데 중요한 정보를 제공합니다. 다음 단계로는 이 분쟁의 역사적 배경과 주요 갈등 요인을 검토하는 것이 필요합니다.'), ('최근 뉴스 및 신뢰할 수 있는 출처를 통해 이란과 이스라엘 간 분쟁 관련 사건을 조사한다.', '최근 이란과 이스라엘 간의 분쟁에 대한 주요 뉴스는 다음과 같습니다:\\n\\n1. **이스라엘과 하마스 간의 휴전 협상**: 이스라엘과 하마스 간의 휴전 협상이 교착 상태에 빠져 있으며, 가자 지구의 상황이 위기에 처해 있습니다. 이스라엘은 인질이 석방되지 않으면 가자 지구와의 휴전을 종료할 것이라고 밝혔습니다. (출처: [BBC News 코리아](https://www.bbc.com/korean/topics/cr50ykqw952t))\\n\\n2. **트럼프의 휴전 발표**: 도널드 트럼프 전 미국 대통령이 이스라엘과 이란 간의 전쟁이 공식적으로 종식되었다고 발표했습니다. 이란과 이스라엘 간의 물밑 협상이 있었으며, 이란은 경제 완화를 위해 먼저 휴전에 응한 것으로 보입니다. (출처: [YTN](https://www.youtube.com/watch?v=_-tlhHa6GyQ))\\n\\n3. **이란-이스라엘 휴전 발효**: 트럼프 전 대통령은 이란 핵 농축 시설 파괴 작전을 모니터링하며 이란-이스라엘 간의 휴전이 발효되었다고 발표했습니다. 이 휴전은 위험한 공습의 성과로 평가되고 있습니다. (출처: [BBC News 코리아](https://www.bbc.com/korean/articles/cx2kmpyywp7o))\\n\\n이러한 뉴스들은 최근 이란과 이스라엘 간의 분쟁 상황을 이해하는 데 중요한 정보를 제공합니다. 다음 단계로는 이 분쟁의 역사적 배경과 주요 갈등 요인을 검토하는 것이 필요합니다.'), ('분쟁의 역사적 배경을 파악하기 위해 과거 이란-이스라엘 관계 및 주요 갈등 요인을 검토한다.', \"이란과 이스라엘의 관계는 역사적으로 복잡하며, 여러 요인들이 얽혀 있습니다. 이란과 이스라엘은 1948년 이스라엘이 독립 국가로 선언된 이후 초기에는 비교적 우호적인 관계를 유지했으나, 1979년 이란 이슬람 혁명 이후 관계가 급격히 악화되었습니다. 이란은 이슬람 공화국으로 전환되면서 이스라엘을 '작은 사탄'으로 간주하며 적대적인 입장을 취하게 되었습니다.\\n\\n주요 갈등 요인으로는 이란의 핵 개발과 이스라엘의 이에 대한 경계, 이란의 하마스 및 헤즈볼라와 같은 비국가 단체에 대한 지원, 그리고 이스라엘의 팔레스타인 문제 등이 있습니다. 이란은 이스라엘의 존재를 인정하지 않으며, 이스라엘은 이란을 중동의 안정에 대한 위협으로 간주하고 있습니다.\\n\\n이란과 이스라엘은 직접적인 국경 분쟁이나 경제적 경쟁이 없음에도 불구하고, 지정학적, 이념적, 종교적 요인들이 복합적으로 작용하여 양국 간의 적대감이 지속되고 있습니다. 이러한 갈등은 중동 지역의 불안정성을 심화시키고 있으며, 국제 사회의 주목을 받고 있습니다.\")]\n",
      "request 최근 발생한 이란-이스라엘 간 분쟁이 발생한 원인에 대해 설명해줘.\n",
      "============================================================================================================================================================================================================================================================================================================================================================================================\n",
      "plan ['최근 분쟁의 발단이 된 특정 사건이나 발언이 무엇인지 확인한다.', '양국의 정치적, 군사적, 경제적 이해관계와 관련된 요인을 분석하여 분쟁의 원인을 도출한다.', '국제 사회의 반응 및 개입 여부를 조사하여 분쟁의 확산 가능성을 평가한다.', '수집한 정보를 바탕으로 이란-이스라엘 간 분쟁의 원인에 대한 종합적인 설명을 작성한다.']\n",
      "trajectory [('최근 뉴스 및 신뢰할 수 있는 출처를 통해 이란과 이스라엘 간 분쟁 관련 사건을 조사한다.', '최근 이란과 이스라엘 간의 분쟁에 대한 주요 뉴스는 다음과 같습니다:\\n\\n1. **이스라엘과 하마스 간의 휴전 협상**: 이스라엘과 하마스 간의 휴전 협상이 교착 상태에 빠져 있으며, 가자 지구의 상황이 위기에 처해 있습니다. 이스라엘은 인질이 석방되지 않으면 가자 지구와의 휴전을 종료할 것이라고 밝혔습니다. (출처: [BBC News 코리아](https://www.bbc.com/korean/topics/cr50ykqw952t))\\n\\n2. **트럼프의 휴전 발표**: 도널드 트럼프 전 미국 대통령이 이스라엘과 이란 간의 전쟁이 공식적으로 종식되었다고 발표했습니다. 이란과 이스라엘 간의 물밑 협상이 있었으며, 이란은 경제 완화를 위해 먼저 휴전에 응한 것으로 보입니다. (출처: [YTN](https://www.youtube.com/watch?v=_-tlhHa6GyQ))\\n\\n3. **이란-이스라엘 휴전 발효**: 트럼프 전 대통령은 이란 핵 농축 시설 파괴 작전을 모니터링하며 이란-이스라엘 간의 휴전이 발효되었다고 발표했습니다. 이 휴전은 위험한 공습의 성과로 평가되고 있습니다. (출처: [BBC News 코리아](https://www.bbc.com/korean/articles/cx2kmpyywp7o))\\n\\n이러한 뉴스들은 최근 이란과 이스라엘 간의 분쟁 상황을 이해하는 데 중요한 정보를 제공합니다. 다음 단계로는 이 분쟁의 역사적 배경과 주요 갈등 요인을 검토하는 것이 필요합니다.'), ('최근 뉴스 및 신뢰할 수 있는 출처를 통해 이란과 이스라엘 간 분쟁 관련 사건을 조사한다.', '최근 이란과 이스라엘 간의 분쟁에 대한 주요 뉴스는 다음과 같습니다:\\n\\n1. **이스라엘과 하마스 간의 휴전 협상**: 이스라엘과 하마스 간의 휴전 협상이 교착 상태에 빠져 있으며, 가자 지구의 상황이 위기에 처해 있습니다. 이스라엘은 인질이 석방되지 않으면 가자 지구와의 휴전을 종료할 것이라고 밝혔습니다. (출처: [BBC News 코리아](https://www.bbc.com/korean/topics/cr50ykqw952t))\\n\\n2. **트럼프의 휴전 발표**: 도널드 트럼프 전 미국 대통령이 이스라엘과 이란 간의 전쟁이 공식적으로 종식되었다고 발표했습니다. 이란과 이스라엘 간의 물밑 협상이 있었으며, 이란은 경제 완화를 위해 먼저 휴전에 응한 것으로 보입니다. (출처: [YTN](https://www.youtube.com/watch?v=_-tlhHa6GyQ))\\n\\n3. **이란-이스라엘 휴전 발효**: 트럼프 전 대통령은 이란 핵 농축 시설 파괴 작전을 모니터링하며 이란-이스라엘 간의 휴전이 발효되었다고 발표했습니다. 이 휴전은 위험한 공습의 성과로 평가되고 있습니다. (출처: [BBC News 코리아](https://www.bbc.com/korean/articles/cx2kmpyywp7o))\\n\\n이러한 뉴스들은 최근 이란과 이스라엘 간의 분쟁 상황을 이해하는 데 중요한 정보를 제공합니다. 다음 단계로는 이 분쟁의 역사적 배경과 주요 갈등 요인을 검토하는 것이 필요합니다.'), ('분쟁의 역사적 배경을 파악하기 위해 과거 이란-이스라엘 관계 및 주요 갈등 요인을 검토한다.', \"이란과 이스라엘의 관계는 역사적으로 복잡하며, 여러 요인들이 얽혀 있습니다. 이란과 이스라엘은 1948년 이스라엘이 독립 국가로 선언된 이후 초기에는 비교적 우호적인 관계를 유지했으나, 1979년 이란 이슬람 혁명 이후 관계가 급격히 악화되었습니다. 이란은 이슬람 공화국으로 전환되면서 이스라엘을 '작은 사탄'으로 간주하며 적대적인 입장을 취하게 되었습니다.\\n\\n주요 갈등 요인으로는 이란의 핵 개발과 이스라엘의 이에 대한 경계, 이란의 하마스 및 헤즈볼라와 같은 비국가 단체에 대한 지원, 그리고 이스라엘의 팔레스타인 문제 등이 있습니다. 이란은 이스라엘의 존재를 인정하지 않으며, 이스라엘은 이란을 중동의 안정에 대한 위협으로 간주하고 있습니다.\\n\\n이란과 이스라엘은 직접적인 국경 분쟁이나 경제적 경쟁이 없음에도 불구하고, 지정학적, 이념적, 종교적 요인들이 복합적으로 작용하여 양국 간의 적대감이 지속되고 있습니다. 이러한 갈등은 중동 지역의 불안정성을 심화시키고 있으며, 국제 사회의 주목을 받고 있습니다.\"), ('최근 뉴스 및 신뢰할 수 있는 출처를 통해 이란과 이스라엘 간 분쟁 관련 사건을 조사한다.', '최근 이란과 이스라엘 간의 분쟁에 대한 주요 뉴스는 다음과 같습니다:\\n\\n1. **이스라엘과 하마스 간의 휴전 협상**: 이스라엘과 하마스 간의 휴전 협상이 교착 상태에 빠져 있으며, 가자 지구의 상황이 위기에 처해 있습니다. 이스라엘은 인질이 석방되지 않으면 가자 지구와의 휴전을 종료할 것이라고 밝혔습니다. (출처: [BBC News 코리아](https://www.bbc.com/korean/topics/cr50ykqw952t))\\n\\n2. **트럼프의 휴전 발표**: 도널드 트럼프 전 미국 대통령이 이스라엘과 이란 간의 전쟁이 공식적으로 종식되었다고 발표했습니다. 이란과 이스라엘 간의 물밑 협상이 있었으며, 이란은 경제 완화를 위해 먼저 휴전에 응한 것으로 보입니다. (출처: [YTN](https://www.youtube.com/watch?v=_-tlhHa6GyQ))\\n\\n3. **이란-이스라엘 휴전 발효**: 트럼프 전 대통령은 이란 핵 농축 시설 파괴 작전을 모니터링하며 이란-이스라엘 간의 휴전이 발효되었다고 발표했습니다. 이 휴전은 위험한 공습의 성과로 평가되고 있습니다. (출처: [BBC News 코리아](https://www.bbc.com/korean/articles/cx2kmpyywp7o))\\n\\n이러한 뉴스들은 최근 이란과 이스라엘 간의 분쟁 상황을 이해하는 데 중요한 정보를 제공합니다. 다음 단계로는 이 분쟁의 역사적 배경과 주요 갈등 요인을 검토하는 것이 필요합니다.'), ('최근 뉴스 및 신뢰할 수 있는 출처를 통해 이란과 이스라엘 간 분쟁 관련 사건을 조사한다.', '최근 이란과 이스라엘 간의 분쟁에 대한 주요 뉴스는 다음과 같습니다:\\n\\n1. **이스라엘과 하마스 간의 휴전 협상**: 이스라엘과 하마스 간의 휴전 협상이 교착 상태에 빠져 있으며, 가자 지구의 상황이 위기에 처해 있습니다. 이스라엘은 인질이 석방되지 않으면 가자 지구와의 휴전을 종료할 것이라고 밝혔습니다. (출처: [BBC News 코리아](https://www.bbc.com/korean/topics/cr50ykqw952t))\\n\\n2. **트럼프의 휴전 발표**: 도널드 트럼프 전 미국 대통령이 이스라엘과 이란 간의 전쟁이 공식적으로 종식되었다고 발표했습니다. 이란과 이스라엘 간의 물밑 협상이 있었으며, 이란은 경제 완화를 위해 먼저 휴전에 응한 것으로 보입니다. (출처: [YTN](https://www.youtube.com/watch?v=_-tlhHa6GyQ))\\n\\n3. **이란-이스라엘 휴전 발효**: 트럼프 전 대통령은 이란 핵 농축 시설 파괴 작전을 모니터링하며 이란-이스라엘 간의 휴전이 발효되었다고 발표했습니다. 이 휴전은 위험한 공습의 성과로 평가되고 있습니다. (출처: [BBC News 코리아](https://www.bbc.com/korean/articles/cx2kmpyywp7o))\\n\\n이러한 뉴스들은 최근 이란과 이스라엘 간의 분쟁 상황을 이해하는 데 중요한 정보를 제공합니다. 다음 단계로는 이 분쟁의 역사적 배경과 주요 갈등 요인을 검토하는 것이 필요합니다.'), ('분쟁의 역사적 배경을 파악하기 위해 과거 이란-이스라엘 관계 및 주요 갈등 요인을 검토한다.', \"이란과 이스라엘의 관계는 역사적으로 복잡하며, 여러 요인들이 얽혀 있습니다. 이란과 이스라엘은 1948년 이스라엘이 독립 국가로 선언된 이후 초기에는 비교적 우호적인 관계를 유지했으나, 1979년 이란 이슬람 혁명 이후 관계가 급격히 악화되었습니다. 이란은 이슬람 공화국으로 전환되면서 이스라엘을 '작은 사탄'으로 간주하며 적대적인 입장을 취하게 되었습니다.\\n\\n주요 갈등 요인으로는 이란의 핵 개발과 이스라엘의 이에 대한 경계, 이란의 하마스 및 헤즈볼라와 같은 비국가 단체에 대한 지원, 그리고 이스라엘의 팔레스타인 문제 등이 있습니다. 이란은 이스라엘의 존재를 인정하지 않으며, 이스라엘은 이란을 중동의 안정에 대한 위협으로 간주하고 있습니다.\\n\\n이란과 이스라엘은 직접적인 국경 분쟁이나 경제적 경쟁이 없음에도 불구하고, 지정학적, 이념적, 종교적 요인들이 복합적으로 작용하여 양국 간의 적대감이 지속되고 있습니다. 이러한 갈등은 중동 지역의 불안정성을 심화시키고 있으며, 국제 사회의 주목을 받고 있습니다.\")]\n",
      "request 최근 발생한 이란-이스라엘 간 분쟁이 발생한 원인에 대해 설명해줘.\n",
      "============================================================================================================================================================================================================================================================================================================================================================================================\n",
      "plan ['최근 분쟁의 발단이 된 특정 사건이나 발언이 무엇인지 확인한다.', '양국의 정치적, 군사적, 경제적 이해관계와 관련된 요인을 분석하여 분쟁의 원인을 도출한다.', '국제 사회의 반응 및 개입 여부를 조사하여 분쟁의 확산 가능성을 평가한다.', '수집한 정보를 바탕으로 이란-이스라엘 간 분쟁의 원인에 대한 종합적인 설명을 작성한다.']\n",
      "trajectory [('최근 뉴스 및 신뢰할 수 있는 출처를 통해 이란과 이스라엘 간 분쟁 관련 사건을 조사한다.', '최근 이란과 이스라엘 간의 분쟁에 대한 주요 뉴스는 다음과 같습니다:\\n\\n1. **이스라엘과 하마스 간의 휴전 협상**: 이스라엘과 하마스 간의 휴전 협상이 교착 상태에 빠져 있으며, 가자 지구의 상황이 위기에 처해 있습니다. 이스라엘은 인질이 석방되지 않으면 가자 지구와의 휴전을 종료할 것이라고 밝혔습니다. (출처: [BBC News 코리아](https://www.bbc.com/korean/topics/cr50ykqw952t))\\n\\n2. **트럼프의 휴전 발표**: 도널드 트럼프 전 미국 대통령이 이스라엘과 이란 간의 전쟁이 공식적으로 종식되었다고 발표했습니다. 이란과 이스라엘 간의 물밑 협상이 있었으며, 이란은 경제 완화를 위해 먼저 휴전에 응한 것으로 보입니다. (출처: [YTN](https://www.youtube.com/watch?v=_-tlhHa6GyQ))\\n\\n3. **이란-이스라엘 휴전 발효**: 트럼프 전 대통령은 이란 핵 농축 시설 파괴 작전을 모니터링하며 이란-이스라엘 간의 휴전이 발효되었다고 발표했습니다. 이 휴전은 위험한 공습의 성과로 평가되고 있습니다. (출처: [BBC News 코리아](https://www.bbc.com/korean/articles/cx2kmpyywp7o))\\n\\n이러한 뉴스들은 최근 이란과 이스라엘 간의 분쟁 상황을 이해하는 데 중요한 정보를 제공합니다. 다음 단계로는 이 분쟁의 역사적 배경과 주요 갈등 요인을 검토하는 것이 필요합니다.'), ('최근 뉴스 및 신뢰할 수 있는 출처를 통해 이란과 이스라엘 간 분쟁 관련 사건을 조사한다.', '최근 이란과 이스라엘 간의 분쟁에 대한 주요 뉴스는 다음과 같습니다:\\n\\n1. **이스라엘과 하마스 간의 휴전 협상**: 이스라엘과 하마스 간의 휴전 협상이 교착 상태에 빠져 있으며, 가자 지구의 상황이 위기에 처해 있습니다. 이스라엘은 인질이 석방되지 않으면 가자 지구와의 휴전을 종료할 것이라고 밝혔습니다. (출처: [BBC News 코리아](https://www.bbc.com/korean/topics/cr50ykqw952t))\\n\\n2. **트럼프의 휴전 발표**: 도널드 트럼프 전 미국 대통령이 이스라엘과 이란 간의 전쟁이 공식적으로 종식되었다고 발표했습니다. 이란과 이스라엘 간의 물밑 협상이 있었으며, 이란은 경제 완화를 위해 먼저 휴전에 응한 것으로 보입니다. (출처: [YTN](https://www.youtube.com/watch?v=_-tlhHa6GyQ))\\n\\n3. **이란-이스라엘 휴전 발효**: 트럼프 전 대통령은 이란 핵 농축 시설 파괴 작전을 모니터링하며 이란-이스라엘 간의 휴전이 발효되었다고 발표했습니다. 이 휴전은 위험한 공습의 성과로 평가되고 있습니다. (출처: [BBC News 코리아](https://www.bbc.com/korean/articles/cx2kmpyywp7o))\\n\\n이러한 뉴스들은 최근 이란과 이스라엘 간의 분쟁 상황을 이해하는 데 중요한 정보를 제공합니다. 다음 단계로는 이 분쟁의 역사적 배경과 주요 갈등 요인을 검토하는 것이 필요합니다.'), ('분쟁의 역사적 배경을 파악하기 위해 과거 이란-이스라엘 관계 및 주요 갈등 요인을 검토한다.', \"이란과 이스라엘의 관계는 역사적으로 복잡하며, 여러 요인들이 얽혀 있습니다. 이란과 이스라엘은 1948년 이스라엘이 독립 국가로 선언된 이후 초기에는 비교적 우호적인 관계를 유지했으나, 1979년 이란 이슬람 혁명 이후 관계가 급격히 악화되었습니다. 이란은 이슬람 공화국으로 전환되면서 이스라엘을 '작은 사탄'으로 간주하며 적대적인 입장을 취하게 되었습니다.\\n\\n주요 갈등 요인으로는 이란의 핵 개발과 이스라엘의 이에 대한 경계, 이란의 하마스 및 헤즈볼라와 같은 비국가 단체에 대한 지원, 그리고 이스라엘의 팔레스타인 문제 등이 있습니다. 이란은 이스라엘의 존재를 인정하지 않으며, 이스라엘은 이란을 중동의 안정에 대한 위협으로 간주하고 있습니다.\\n\\n이란과 이스라엘은 직접적인 국경 분쟁이나 경제적 경쟁이 없음에도 불구하고, 지정학적, 이념적, 종교적 요인들이 복합적으로 작용하여 양국 간의 적대감이 지속되고 있습니다. 이러한 갈등은 중동 지역의 불안정성을 심화시키고 있으며, 국제 사회의 주목을 받고 있습니다.\"), ('최근 뉴스 및 신뢰할 수 있는 출처를 통해 이란과 이스라엘 간 분쟁 관련 사건을 조사한다.', '최근 이란과 이스라엘 간의 분쟁에 대한 주요 뉴스는 다음과 같습니다:\\n\\n1. **이스라엘과 하마스 간의 휴전 협상**: 이스라엘과 하마스 간의 휴전 협상이 교착 상태에 빠져 있으며, 가자 지구의 상황이 위기에 처해 있습니다. 이스라엘은 인질이 석방되지 않으면 가자 지구와의 휴전을 종료할 것이라고 밝혔습니다. (출처: [BBC News 코리아](https://www.bbc.com/korean/topics/cr50ykqw952t))\\n\\n2. **트럼프의 휴전 발표**: 도널드 트럼프 전 미국 대통령이 이스라엘과 이란 간의 전쟁이 공식적으로 종식되었다고 발표했습니다. 이란과 이스라엘 간의 물밑 협상이 있었으며, 이란은 경제 완화를 위해 먼저 휴전에 응한 것으로 보입니다. (출처: [YTN](https://www.youtube.com/watch?v=_-tlhHa6GyQ))\\n\\n3. **이란-이스라엘 휴전 발효**: 트럼프 전 대통령은 이란 핵 농축 시설 파괴 작전을 모니터링하며 이란-이스라엘 간의 휴전이 발효되었다고 발표했습니다. 이 휴전은 위험한 공습의 성과로 평가되고 있습니다. (출처: [BBC News 코리아](https://www.bbc.com/korean/articles/cx2kmpyywp7o))\\n\\n이러한 뉴스들은 최근 이란과 이스라엘 간의 분쟁 상황을 이해하는 데 중요한 정보를 제공합니다. 다음 단계로는 이 분쟁의 역사적 배경과 주요 갈등 요인을 검토하는 것이 필요합니다.'), ('최근 뉴스 및 신뢰할 수 있는 출처를 통해 이란과 이스라엘 간 분쟁 관련 사건을 조사한다.', '최근 이란과 이스라엘 간의 분쟁에 대한 주요 뉴스는 다음과 같습니다:\\n\\n1. **이스라엘과 하마스 간의 휴전 협상**: 이스라엘과 하마스 간의 휴전 협상이 교착 상태에 빠져 있으며, 가자 지구의 상황이 위기에 처해 있습니다. 이스라엘은 인질이 석방되지 않으면 가자 지구와의 휴전을 종료할 것이라고 밝혔습니다. (출처: [BBC News 코리아](https://www.bbc.com/korean/topics/cr50ykqw952t))\\n\\n2. **트럼프의 휴전 발표**: 도널드 트럼프 전 미국 대통령이 이스라엘과 이란 간의 전쟁이 공식적으로 종식되었다고 발표했습니다. 이란과 이스라엘 간의 물밑 협상이 있었으며, 이란은 경제 완화를 위해 먼저 휴전에 응한 것으로 보입니다. (출처: [YTN](https://www.youtube.com/watch?v=_-tlhHa6GyQ))\\n\\n3. **이란-이스라엘 휴전 발효**: 트럼프 전 대통령은 이란 핵 농축 시설 파괴 작전을 모니터링하며 이란-이스라엘 간의 휴전이 발효되었다고 발표했습니다. 이 휴전은 위험한 공습의 성과로 평가되고 있습니다. (출처: [BBC News 코리아](https://www.bbc.com/korean/articles/cx2kmpyywp7o))\\n\\n이러한 뉴스들은 최근 이란과 이스라엘 간의 분쟁 상황을 이해하는 데 중요한 정보를 제공합니다. 다음 단계로는 이 분쟁의 역사적 배경과 주요 갈등 요인을 검토하는 것이 필요합니다.'), ('분쟁의 역사적 배경을 파악하기 위해 과거 이란-이스라엘 관계 및 주요 갈등 요인을 검토한다.', \"이란과 이스라엘의 관계는 역사적으로 복잡하며, 여러 요인들이 얽혀 있습니다. 이란과 이스라엘은 1948년 이스라엘이 독립 국가로 선언된 이후 초기에는 비교적 우호적인 관계를 유지했으나, 1979년 이란 이슬람 혁명 이후 관계가 급격히 악화되었습니다. 이란은 이슬람 공화국으로 전환되면서 이스라엘을 '작은 사탄'으로 간주하며 적대적인 입장을 취하게 되었습니다.\\n\\n주요 갈등 요인으로는 이란의 핵 개발과 이스라엘의 이에 대한 경계, 이란의 하마스 및 헤즈볼라와 같은 비국가 단체에 대한 지원, 그리고 이스라엘의 팔레스타인 문제 등이 있습니다. 이란은 이스라엘의 존재를 인정하지 않으며, 이스라엘은 이란을 중동의 안정에 대한 위협으로 간주하고 있습니다.\\n\\n이란과 이스라엘은 직접적인 국경 분쟁이나 경제적 경쟁이 없음에도 불구하고, 지정학적, 이념적, 종교적 요인들이 복합적으로 작용하여 양국 간의 적대감이 지속되고 있습니다. 이러한 갈등은 중동 지역의 불안정성을 심화시키고 있으며, 국제 사회의 주목을 받고 있습니다.\"), ('최근 분쟁의 발단이 된 특정 사건이나 발언이 무엇인지 확인한다.', '최근 이란-이스라엘 분쟁의 발단은 2023년 10월 7일, 가자 지구 기반의 무장 단체 하마스가 이스라엘 남부에 기습 공격을 감행한 사건으로 시작되었습니다. 이 공격 이후 레바논의 이란 대리 세력인 헤즈볼라가 이스라엘 북부를 공격하였고, 예멘 기반의 이란 대리 세력인 후티는 홍해에서 국제 선박에 대한 공격을 개시했습니다. 이러한 일련의 공격들은 중동의 위기를 심화시켰고, 이스라엘은 이에 대응하여 헤즈볼라와 하마스의 군 지도부를 대거 제거하는 등 군사적 대응을 강화했습니다.\\n\\n이후 2025년 6월 13일, 이스라엘은 이란의 핵 프로그램을 해체하기 위한 목적으로 이란의 핵시설과 군사시설을 대규모로 공습하였고, 이로 인해 이란은 전쟁 상태를 선포하며 이스라엘에 대한 강력한 보복을 약속했습니다. 이스라엘의 공격은 미국이 제시한 60일간의 핵 협상 시한이 종료된 다음 날 이루어졌으며, 이스라엘은 이 전쟁이 이란 국민이 아닌 이란 정권을 상대로 한 것이라고 주장했습니다. \\n\\n이러한 사건들이 최근 이란-이스라엘 분쟁의 주요 발단이 되었습니다.')]\n",
      "request 최근 발생한 이란-이스라엘 간 분쟁이 발생한 원인에 대해 설명해줘.\n",
      "============================================================================================================================================================================================================================================================================================================================================================================================\n",
      "answer 최근 이란-이스라엘 간 분쟁의 발단은 2023년 10월 7일, 가자 지구 기반의 무장 단체 하마스가 이스라엘 남부에 기습 공격을 감행한 사건으로 시작되었습니다. 이 공격 이후 레바논의 이란 대리 세력인 헤즈볼라가 이스라엘 북부를 공격하였고, 예멘 기반의 이란 대리 세력인 후티는 홍해에서 국제 선박에 대한 공격을 개시했습니다. 이러한 일련의 공격들은 중동의 위기를 심화시켰고, 이스라엘은 이에 대응하여 헤즈볼라와 하마스의 군 지도부를 대거 제거하는 등 군사적 대응을 강화했습니다.\n",
      "\n",
      "이후 2025년 6월 13일, 이스라엘은 이란의 핵 프로그램을 해체하기 위한 목적으로 이란의 핵시설과 군사시설을 대규모로 공습하였고, 이로 인해 이란은 전쟁 상태를 선포하며 이스라엘에 대한 강력한 보복을 약속했습니다. 이스라엘의 공격은 미국이 제시한 60일간의 핵 협상 시한이 종료된 다음 날 이루어졌으며, 이스라엘은 이 전쟁이 이란 국민이 아닌 이란 정권을 상대로 한 것이라고 주장했습니다.\n",
      "\n",
      "이러한 사건들이 최근 이란-이스라엘 분쟁의 주요 발단이 되었습니다. 또한, 이란과 이스라엘 간의 역사적 적대감과 지정학적, 이념적 갈등이 복합적으로 작용하여 분쟁이 심화되고 있습니다. 이란의 핵 개발과 이에 대한 이스라엘의 경계, 이란의 하마스 및 헤즈볼라 지원, 이스라엘의 팔레스타인 문제 등이 주요 갈등 요인으로 작용하고 있습니다.\n",
      "plan ['최근 분쟁의 발단이 된 특정 사건이나 발언이 무엇인지 확인한다.', '양국의 정치적, 군사적, 경제적 이해관계와 관련된 요인을 분석하여 분쟁의 원인을 도출한다.', '국제 사회의 반응 및 개입 여부를 조사하여 분쟁의 확산 가능성을 평가한다.', '수집한 정보를 바탕으로 이란-이스라엘 간 분쟁의 원인에 대한 종합적인 설명을 작성한다.']\n",
      "trajectory [('최근 뉴스 및 신뢰할 수 있는 출처를 통해 이란과 이스라엘 간 분쟁 관련 사건을 조사한다.', '최근 이란과 이스라엘 간의 분쟁에 대한 주요 뉴스는 다음과 같습니다:\\n\\n1. **이스라엘과 하마스 간의 휴전 협상**: 이스라엘과 하마스 간의 휴전 협상이 교착 상태에 빠져 있으며, 가자 지구의 상황이 위기에 처해 있습니다. 이스라엘은 인질이 석방되지 않으면 가자 지구와의 휴전을 종료할 것이라고 밝혔습니다. (출처: [BBC News 코리아](https://www.bbc.com/korean/topics/cr50ykqw952t))\\n\\n2. **트럼프의 휴전 발표**: 도널드 트럼프 전 미국 대통령이 이스라엘과 이란 간의 전쟁이 공식적으로 종식되었다고 발표했습니다. 이란과 이스라엘 간의 물밑 협상이 있었으며, 이란은 경제 완화를 위해 먼저 휴전에 응한 것으로 보입니다. (출처: [YTN](https://www.youtube.com/watch?v=_-tlhHa6GyQ))\\n\\n3. **이란-이스라엘 휴전 발효**: 트럼프 전 대통령은 이란 핵 농축 시설 파괴 작전을 모니터링하며 이란-이스라엘 간의 휴전이 발효되었다고 발표했습니다. 이 휴전은 위험한 공습의 성과로 평가되고 있습니다. (출처: [BBC News 코리아](https://www.bbc.com/korean/articles/cx2kmpyywp7o))\\n\\n이러한 뉴스들은 최근 이란과 이스라엘 간의 분쟁 상황을 이해하는 데 중요한 정보를 제공합니다. 다음 단계로는 이 분쟁의 역사적 배경과 주요 갈등 요인을 검토하는 것이 필요합니다.'), ('최근 뉴스 및 신뢰할 수 있는 출처를 통해 이란과 이스라엘 간 분쟁 관련 사건을 조사한다.', '최근 이란과 이스라엘 간의 분쟁에 대한 주요 뉴스는 다음과 같습니다:\\n\\n1. **이스라엘과 하마스 간의 휴전 협상**: 이스라엘과 하마스 간의 휴전 협상이 교착 상태에 빠져 있으며, 가자 지구의 상황이 위기에 처해 있습니다. 이스라엘은 인질이 석방되지 않으면 가자 지구와의 휴전을 종료할 것이라고 밝혔습니다. (출처: [BBC News 코리아](https://www.bbc.com/korean/topics/cr50ykqw952t))\\n\\n2. **트럼프의 휴전 발표**: 도널드 트럼프 전 미국 대통령이 이스라엘과 이란 간의 전쟁이 공식적으로 종식되었다고 발표했습니다. 이란과 이스라엘 간의 물밑 협상이 있었으며, 이란은 경제 완화를 위해 먼저 휴전에 응한 것으로 보입니다. (출처: [YTN](https://www.youtube.com/watch?v=_-tlhHa6GyQ))\\n\\n3. **이란-이스라엘 휴전 발효**: 트럼프 전 대통령은 이란 핵 농축 시설 파괴 작전을 모니터링하며 이란-이스라엘 간의 휴전이 발효되었다고 발표했습니다. 이 휴전은 위험한 공습의 성과로 평가되고 있습니다. (출처: [BBC News 코리아](https://www.bbc.com/korean/articles/cx2kmpyywp7o))\\n\\n이러한 뉴스들은 최근 이란과 이스라엘 간의 분쟁 상황을 이해하는 데 중요한 정보를 제공합니다. 다음 단계로는 이 분쟁의 역사적 배경과 주요 갈등 요인을 검토하는 것이 필요합니다.'), ('분쟁의 역사적 배경을 파악하기 위해 과거 이란-이스라엘 관계 및 주요 갈등 요인을 검토한다.', \"이란과 이스라엘의 관계는 역사적으로 복잡하며, 여러 요인들이 얽혀 있습니다. 이란과 이스라엘은 1948년 이스라엘이 독립 국가로 선언된 이후 초기에는 비교적 우호적인 관계를 유지했으나, 1979년 이란 이슬람 혁명 이후 관계가 급격히 악화되었습니다. 이란은 이슬람 공화국으로 전환되면서 이스라엘을 '작은 사탄'으로 간주하며 적대적인 입장을 취하게 되었습니다.\\n\\n주요 갈등 요인으로는 이란의 핵 개발과 이스라엘의 이에 대한 경계, 이란의 하마스 및 헤즈볼라와 같은 비국가 단체에 대한 지원, 그리고 이스라엘의 팔레스타인 문제 등이 있습니다. 이란은 이스라엘의 존재를 인정하지 않으며, 이스라엘은 이란을 중동의 안정에 대한 위협으로 간주하고 있습니다.\\n\\n이란과 이스라엘은 직접적인 국경 분쟁이나 경제적 경쟁이 없음에도 불구하고, 지정학적, 이념적, 종교적 요인들이 복합적으로 작용하여 양국 간의 적대감이 지속되고 있습니다. 이러한 갈등은 중동 지역의 불안정성을 심화시키고 있으며, 국제 사회의 주목을 받고 있습니다.\"), ('최근 뉴스 및 신뢰할 수 있는 출처를 통해 이란과 이스라엘 간 분쟁 관련 사건을 조사한다.', '최근 이란과 이스라엘 간의 분쟁에 대한 주요 뉴스는 다음과 같습니다:\\n\\n1. **이스라엘과 하마스 간의 휴전 협상**: 이스라엘과 하마스 간의 휴전 협상이 교착 상태에 빠져 있으며, 가자 지구의 상황이 위기에 처해 있습니다. 이스라엘은 인질이 석방되지 않으면 가자 지구와의 휴전을 종료할 것이라고 밝혔습니다. (출처: [BBC News 코리아](https://www.bbc.com/korean/topics/cr50ykqw952t))\\n\\n2. **트럼프의 휴전 발표**: 도널드 트럼프 전 미국 대통령이 이스라엘과 이란 간의 전쟁이 공식적으로 종식되었다고 발표했습니다. 이란과 이스라엘 간의 물밑 협상이 있었으며, 이란은 경제 완화를 위해 먼저 휴전에 응한 것으로 보입니다. (출처: [YTN](https://www.youtube.com/watch?v=_-tlhHa6GyQ))\\n\\n3. **이란-이스라엘 휴전 발효**: 트럼프 전 대통령은 이란 핵 농축 시설 파괴 작전을 모니터링하며 이란-이스라엘 간의 휴전이 발효되었다고 발표했습니다. 이 휴전은 위험한 공습의 성과로 평가되고 있습니다. (출처: [BBC News 코리아](https://www.bbc.com/korean/articles/cx2kmpyywp7o))\\n\\n이러한 뉴스들은 최근 이란과 이스라엘 간의 분쟁 상황을 이해하는 데 중요한 정보를 제공합니다. 다음 단계로는 이 분쟁의 역사적 배경과 주요 갈등 요인을 검토하는 것이 필요합니다.'), ('최근 뉴스 및 신뢰할 수 있는 출처를 통해 이란과 이스라엘 간 분쟁 관련 사건을 조사한다.', '최근 이란과 이스라엘 간의 분쟁에 대한 주요 뉴스는 다음과 같습니다:\\n\\n1. **이스라엘과 하마스 간의 휴전 협상**: 이스라엘과 하마스 간의 휴전 협상이 교착 상태에 빠져 있으며, 가자 지구의 상황이 위기에 처해 있습니다. 이스라엘은 인질이 석방되지 않으면 가자 지구와의 휴전을 종료할 것이라고 밝혔습니다. (출처: [BBC News 코리아](https://www.bbc.com/korean/topics/cr50ykqw952t))\\n\\n2. **트럼프의 휴전 발표**: 도널드 트럼프 전 미국 대통령이 이스라엘과 이란 간의 전쟁이 공식적으로 종식되었다고 발표했습니다. 이란과 이스라엘 간의 물밑 협상이 있었으며, 이란은 경제 완화를 위해 먼저 휴전에 응한 것으로 보입니다. (출처: [YTN](https://www.youtube.com/watch?v=_-tlhHa6GyQ))\\n\\n3. **이란-이스라엘 휴전 발효**: 트럼프 전 대통령은 이란 핵 농축 시설 파괴 작전을 모니터링하며 이란-이스라엘 간의 휴전이 발효되었다고 발표했습니다. 이 휴전은 위험한 공습의 성과로 평가되고 있습니다. (출처: [BBC News 코리아](https://www.bbc.com/korean/articles/cx2kmpyywp7o))\\n\\n이러한 뉴스들은 최근 이란과 이스라엘 간의 분쟁 상황을 이해하는 데 중요한 정보를 제공합니다. 다음 단계로는 이 분쟁의 역사적 배경과 주요 갈등 요인을 검토하는 것이 필요합니다.'), ('분쟁의 역사적 배경을 파악하기 위해 과거 이란-이스라엘 관계 및 주요 갈등 요인을 검토한다.', \"이란과 이스라엘의 관계는 역사적으로 복잡하며, 여러 요인들이 얽혀 있습니다. 이란과 이스라엘은 1948년 이스라엘이 독립 국가로 선언된 이후 초기에는 비교적 우호적인 관계를 유지했으나, 1979년 이란 이슬람 혁명 이후 관계가 급격히 악화되었습니다. 이란은 이슬람 공화국으로 전환되면서 이스라엘을 '작은 사탄'으로 간주하며 적대적인 입장을 취하게 되었습니다.\\n\\n주요 갈등 요인으로는 이란의 핵 개발과 이스라엘의 이에 대한 경계, 이란의 하마스 및 헤즈볼라와 같은 비국가 단체에 대한 지원, 그리고 이스라엘의 팔레스타인 문제 등이 있습니다. 이란은 이스라엘의 존재를 인정하지 않으며, 이스라엘은 이란을 중동의 안정에 대한 위협으로 간주하고 있습니다.\\n\\n이란과 이스라엘은 직접적인 국경 분쟁이나 경제적 경쟁이 없음에도 불구하고, 지정학적, 이념적, 종교적 요인들이 복합적으로 작용하여 양국 간의 적대감이 지속되고 있습니다. 이러한 갈등은 중동 지역의 불안정성을 심화시키고 있으며, 국제 사회의 주목을 받고 있습니다.\"), ('최근 분쟁의 발단이 된 특정 사건이나 발언이 무엇인지 확인한다.', '최근 이란-이스라엘 분쟁의 발단은 2023년 10월 7일, 가자 지구 기반의 무장 단체 하마스가 이스라엘 남부에 기습 공격을 감행한 사건으로 시작되었습니다. 이 공격 이후 레바논의 이란 대리 세력인 헤즈볼라가 이스라엘 북부를 공격하였고, 예멘 기반의 이란 대리 세력인 후티는 홍해에서 국제 선박에 대한 공격을 개시했습니다. 이러한 일련의 공격들은 중동의 위기를 심화시켰고, 이스라엘은 이에 대응하여 헤즈볼라와 하마스의 군 지도부를 대거 제거하는 등 군사적 대응을 강화했습니다.\\n\\n이후 2025년 6월 13일, 이스라엘은 이란의 핵 프로그램을 해체하기 위한 목적으로 이란의 핵시설과 군사시설을 대규모로 공습하였고, 이로 인해 이란은 전쟁 상태를 선포하며 이스라엘에 대한 강력한 보복을 약속했습니다. 이스라엘의 공격은 미국이 제시한 60일간의 핵 협상 시한이 종료된 다음 날 이루어졌으며, 이스라엘은 이 전쟁이 이란 국민이 아닌 이란 정권을 상대로 한 것이라고 주장했습니다. \\n\\n이러한 사건들이 최근 이란-이스라엘 분쟁의 주요 발단이 되었습니다.')]\n",
      "request 최근 발생한 이란-이스라엘 간 분쟁이 발생한 원인에 대해 설명해줘.\n",
      "============================================================================================================================================================================================================================================================================================================================================================================================\n"
     ]
    }
   ],
   "source": [
    "config = {\"recursion_limit\" : 50}\n",
    "inputs = {\n",
    "    \"request\" : \"최근 발생한 이란-이스라엘 간 분쟁이 발생한 원인에 대해 설명해줘.\"\n",
    "}\n",
    "for event in app.stream(inputs, config=config, stream_mode=\"values\"):\n",
    "    for key, value in event.items(): print(key, value)\n",
    "    print(\"===================\"*20)"
   ]
  },
  {
   "cell_type": "markdown",
   "id": "5c7ee066",
   "metadata": {},
   "source": [
    "최근 이란-이스라엘 간 분쟁의 발단은 2023년 10월 7일, 가자 지구 기반의 무장 단체 하마스가 이스라엘 남부에 기습 공격을 감행한 사건으로 시작되었습니다. 이 공격 이후 레바논의 이란 대리 세력인 헤즈볼라가 이스라엘 북부를 공격하였고, 예멘 기반의 이란 대리 세력인 후티는 홍해에서 국제 선박에 대한 공격을 개시했습니다. 이러한 일련의 공격들은 중동의 위기를 심화시켰고, 이스라엘은 이에 대응하여 헤즈볼라와 하마스의 군 지도부를 대거 제거하는 등 군사적 대응을 강화했습니다.\n",
    "\n",
    "이후 2025년 6월 13일, 이스라엘은 이란의 핵 프로그램을 해체하기 위한 목적으로 이란의 핵시설과 군사시설을 대규모로 공습하였고, 이로 인해 이란은 전쟁 상태를 선포하며 이스라엘에 대한 강력한 보복을 약속했습니다. 이스라엘의 공격은 미국이 제시한 60일간의 핵 협상 시한이 종료된 다음 날 이루어졌으며, 이스라엘은 이 전쟁이 이란 국민이 아닌 이란 정권을 상대로 한 것이라고 주장했습니다.\n",
    "\n",
    "이러한 사건들이 최근 이란-이스라엘 분쟁의 주요 발단이 되었습니다. 또한, 이란과 이스라엘 간의 역사적 적대감과 지정학적, 이념적 갈등이 복합적으로 작용하여 분쟁이 심화되고 있습니다. 이란의 핵 개발과 이에 대한 이스라엘의 경계, 이란의 하마스 및 헤즈볼라 지원, 이스라엘의 팔레스타인 문제 등이 주요 갈등 요인으로 작용하고 있습니다."
   ]
  }
 ],
 "metadata": {
  "kernelspec": {
   "display_name": "llm",
   "language": "python",
   "name": "python3"
  },
  "language_info": {
   "codemirror_mode": {
    "name": "ipython",
    "version": 3
   },
   "file_extension": ".py",
   "mimetype": "text/x-python",
   "name": "python",
   "nbconvert_exporter": "python",
   "pygments_lexer": "ipython3",
   "version": "3.10.16"
  }
 },
 "nbformat": 4,
 "nbformat_minor": 5
}
