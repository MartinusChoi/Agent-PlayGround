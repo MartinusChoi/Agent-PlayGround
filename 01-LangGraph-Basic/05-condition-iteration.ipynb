{
 "cells": [
  {
   "cell_type": "markdown",
   "id": "9d47c636",
   "metadata": {},
   "source": [
    "# 그래프에 조건/반복 설정하기"
   ]
  },
  {
   "cell_type": "markdown",
   "id": "141e2242",
   "metadata": {},
   "source": [
    "## 1. 조건에 따른 반복 설정하기"
   ]
  },
  {
   "cell_type": "code",
   "execution_count": null,
   "id": "251304f5",
   "metadata": {},
   "outputs": [],
   "source": [
    "from typing import Annotated\n",
    "from typing_extensions import TypedDict\n",
    "from operator import add\n",
    "\n",
    "class State(TypedDict):\n",
    "    aggregates: Annotated[list[str], add]"
   ]
  },
  {
   "cell_type": "code",
   "execution_count": 2,
   "id": "d43deed7",
   "metadata": {},
   "outputs": [],
   "source": [
    "def node_a(state:State):\n",
    "    return {\n",
    "        \"aggregates\" : [\"A\"]\n",
    "    }\n",
    "\n",
    "def node_b(state: State):\n",
    "    return {\n",
    "        \"aggregates\" : [\"B\"]\n",
    "    }"
   ]
  },
  {
   "cell_type": "code",
   "execution_count": 3,
   "id": "245e7f4c",
   "metadata": {},
   "outputs": [],
   "source": [
    "def should_continue(state: State):\n",
    "    if len(state['aggregates']) < 7:\n",
    "        return \"b\"\n",
    "    else:\n",
    "        return \"end\""
   ]
  },
  {
   "cell_type": "code",
   "execution_count": 4,
   "id": "9feb8fa1",
   "metadata": {},
   "outputs": [
    {
     "data": {
      "image/png": "[encoded data removed]",
      "text/plain": [
       "<langgraph.graph.state.CompiledStateGraph object at 0x11661e890>"
      ]
     },
     "execution_count": 4,
     "metadata": {},
     "output_type": "execute_result"
    }
   ],
   "source": [
    "from langgraph.graph import StateGraph, START, END\n",
    "\n",
    "workflow = StateGraph(State)\n",
    "\n",
    "workflow.add_node(\"a\", node_a)\n",
    "workflow.add_node(\"b\", node_b)\n",
    "\n",
    "workflow.add_edge(START, \"a\")\n",
    "workflow.add_conditional_edges(\n",
    "    \"a\",\n",
    "    should_continue,\n",
    "    {\n",
    "        \"b\" : \"b\",\n",
    "        \"end\" : END\n",
    "    }\n",
    ")\n",
    "workflow.add_edge(\"b\", \"a\")\n",
    "\n",
    "app = workflow.compile()\n",
    "\n",
    "app"
   ]
  },
  {
   "cell_type": "code",
   "execution_count": 6,
   "id": "37b85505",
   "metadata": {},
   "outputs": [
    {
     "data": {
      "text/plain": [
       "{'aggregates': ['A', 'B', 'A', 'B', 'A', 'B', 'A']}"
      ]
     },
     "execution_count": 6,
     "metadata": {},
     "output_type": "execute_result"
    }
   ],
   "source": [
    "app.invoke({})"
   ]
  },
  {
   "cell_type": "markdown",
   "id": "85708077",
   "metadata": {},
   "source": [
    "## 2. 사용자 입력에 따른 반복 조건 설정하기"
   ]
  },
  {
   "cell_type": "code",
   "execution_count": 7,
   "id": "6c1a56ca",
   "metadata": {},
   "outputs": [],
   "source": [
    "from typing import Annotated\n",
    "from typing_extensions import TypedDict\n",
    "from langchain_core.messages import (\n",
    "    HumanMessage,\n",
    "    AIMessage,\n",
    "    AnyMessage\n",
    ")\n",
    "from langgraph.graph.message import add_messages\n",
    "\n",
    "# define state\n",
    "class State(TypedDict):\n",
    "    recursion_num: int\n",
    "    messages: Annotated[list[AnyMessage], add_messages]\n",
    "\n",
    "# define nodes\n",
    "def user_input_node(state: State):\n",
    "    recursion_num = state['recursion_num']\n",
    "    query = input(f\"'반복'/'종료' 중 하나를 입력하세요 (현재 반복 횟수: {recursion_num}) > \")\n",
    "    user_message = HumanMessage(content=query)\n",
    "\n",
    "    return {\n",
    "        'recursion_num' : recursion_num,\n",
    "        'messages' : [user_message]\n",
    "    }\n",
    "\n",
    "def ai_answer_node(state: State):\n",
    "    recursion_num = state['recursion_num']\n",
    "    answer = f\"{recursion_num}번째 답변!\"\n",
    "    ai_message = AIMessage(content=answer)\n",
    "\n",
    "    return {\n",
    "        'recursion_num' : recursion_num + 1,\n",
    "        'messages' : [ai_message]\n",
    "    }\n",
    "\n",
    "# define conditional routing function\n",
    "def should_continue(state: State):\n",
    "    if state['messages'][-1].content == \"반복\":\n",
    "        return \"ai\"\n",
    "    else:\n",
    "        return \"END\""
   ]
  },
  {
   "cell_type": "code",
   "execution_count": 8,
   "id": "993bc64f",
   "metadata": {},
   "outputs": [
    {
     "data": {
      "image/png": "[encoded data removed]",
      "text/plain": [
       "<langgraph.graph.state.CompiledStateGraph object at 0x1168b7b20>"
      ]
     },
     "execution_count": 8,
     "metadata": {},
     "output_type": "execute_result"
    }
   ],
   "source": [
    "from langgraph.graph import StateGraph, START, END\n",
    "\n",
    "workflow = StateGraph(State)\n",
    "\n",
    "workflow.add_node(\"user\", user_input_node)\n",
    "workflow.add_node(\"ai\", ai_answer_node)\n",
    "\n",
    "workflow.add_edge(START, \"user\")\n",
    "workflow.add_conditional_edges(\n",
    "    \"user\",\n",
    "    should_continue,\n",
    "    {\n",
    "        \"ai\" : \"ai\",\n",
    "        \"END\" : END\n",
    "    }\n",
    ")\n",
    "workflow.add_edge(\"ai\", \"user\")\n",
    "\n",
    "app = workflow.compile()\n",
    "\n",
    "app"
   ]
  },
  {
   "cell_type": "code",
   "execution_count": 13,
   "id": "1c5cff8c",
   "metadata": {},
   "outputs": [
    {
     "name": "stdout",
     "output_type": "stream",
     "text": [
      "user\n",
      "[HumanMessage(content='반복', additional_kwargs={}, response_metadata={}, id='8bd5078d-143d-4e05-89e2-80f136d4a07a')]\n",
      "ai\n",
      "[AIMessage(content='0번째 답변!', additional_kwargs={}, response_metadata={}, id='ae2de0c1-f00e-4489-b830-3a39c6b9d585')]\n",
      "user\n",
      "[HumanMessage(content='반복', additional_kwargs={}, response_metadata={}, id='c9c5a517-3198-4e9c-9e27-5c0cc1ea5948')]\n",
      "ai\n",
      "[AIMessage(content='1번째 답변!', additional_kwargs={}, response_metadata={}, id='216bf777-f5ac-41ee-96df-4ab93ced603e')]\n",
      "user\n",
      "[HumanMessage(content='반복', additional_kwargs={}, response_metadata={}, id='b61ff1b3-52ef-4fee-bc37-7c14467c298b')]\n",
      "ai\n",
      "[AIMessage(content='2번째 답변!', additional_kwargs={}, response_metadata={}, id='7115ad98-7fac-4a34-a0bd-6c52f2cb41d3')]\n",
      "user\n",
      "[HumanMessage(content='반복', additional_kwargs={}, response_metadata={}, id='30b47758-1965-494e-b4f3-a632527c0d3e')]\n",
      "ai\n",
      "[AIMessage(content='3번째 답변!', additional_kwargs={}, response_metadata={}, id='bd4bc838-2d2b-491f-b3e1-179c41634986')]\n",
      "user\n",
      "[HumanMessage(content='반복', additional_kwargs={}, response_metadata={}, id='13942c35-df6c-49aa-9d28-e41eac72cd07')]\n",
      "ai\n",
      "[AIMessage(content='4번째 답변!', additional_kwargs={}, response_metadata={}, id='ad710744-410d-44f5-9872-88d94543a478')]\n",
      "user\n",
      "[HumanMessage(content='종료', additional_kwargs={}, response_metadata={}, id='f5fabaae-e7a8-4b48-874b-7c74e398d582')]\n"
     ]
    }
   ],
   "source": [
    "for chunk in app.stream({\"recursion_num\" : 0}, stream_mode=\"updates\"):\n",
    "    for node, value in chunk.items():\n",
    "        print(node)\n",
    "        if \"messages\" in value:\n",
    "            print(value['messages'])"
   ]
  }
 ],
 "metadata": {
  "kernelspec": {
   "display_name": "llm",
   "language": "python",
   "name": "python3"
  },
  "language_info": {
   "codemirror_mode": {
    "name": "ipython",
    "version": 3
   },
   "file_extension": ".py",
   "mimetype": "text/x-python",
   "name": "python",
   "nbconvert_exporter": "python",
   "pygments_lexer": "ipython3",
   "version": "3.10.16"
  }
 },
 "nbformat": 4,
 "nbformat_minor": 5
}
