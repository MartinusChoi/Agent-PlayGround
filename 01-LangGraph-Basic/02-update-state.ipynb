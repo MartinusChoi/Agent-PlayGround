{
 "cells": [
  {
   "cell_type": "markdown",
   "id": "75fec643",
   "metadata": {},
   "source": [
    "# Graph의 State 업데이트 하기 (대화 목록 관리)"
   ]
  },
  {
   "cell_type": "markdown",
   "id": "048f9dd9",
   "metadata": {},
   "source": [
    "## Message 내역을 포함한 State 정의, 누적하여 활용\n",
    "\n",
    "- `HumanMessage` : 사용자(사람)의 메시지\n",
    "- `AIMessage` : AI(LLM)의 메시지\n",
    "- `AnyMessage` : HumanMessage, AIMessage를 포함하는 메시지"
   ]
  },
  {
   "cell_type": "code",
   "execution_count": 1,
   "id": "cde16110",
   "metadata": {},
   "outputs": [],
   "source": [
    "from typing_extensions import TypedDict\n",
    "from langchain_core.messages import (\n",
    "    HumanMessage,\n",
    "    AIMessage,\n",
    "    AnyMessage\n",
    ")\n",
    "from typing import Annotated\n",
    "from langgraph.graph.message import add_messages\n",
    "\n",
    "class InputState(TypedDict):\n",
    "    query: str\n",
    "\n",
    "class OutputState(TypedDict):\n",
    "    answer: str\n",
    "\n",
    "class GraphState(InputState, OutputState):\n",
    "    messages: Annotated[list[AnyMessage], add_messages]"
   ]
  },
  {
   "cell_type": "code",
   "execution_count": 8,
   "id": "0666670f",
   "metadata": {},
   "outputs": [],
   "source": [
    "# Define Nodes\n",
    "def chatbot_node(state: InputState):\n",
    "    query = state['query']\n",
    "    user_message = HumanMessage(content=query)\n",
    "\n",
    "    answer = \"안녕하세요! 무엇을 도와드릴까요?\"\n",
    "    ai_message = AIMessage(content=answer)\n",
    "\n",
    "    return {\n",
    "        'messages' : [user_message, ai_message],\n",
    "        'answer' : answer\n",
    "    }\n",
    "\n",
    "def show_messages_node(state: GraphState):\n",
    "    for message in state['messages']:\n",
    "        message.pretty_print()\n",
    "    return state"
   ]
  },
  {
   "cell_type": "code",
   "execution_count": 9,
   "id": "c358ae42",
   "metadata": {},
   "outputs": [
    {
     "data": {
      "image/png": "[encoded data removed]",
      "text/plain": [
       "<langgraph.graph.state.CompiledStateGraph object at 0x10f837a30>"
      ]
     },
     "execution_count": 9,
     "metadata": {},
     "output_type": "execute_result"
    }
   ],
   "source": [
    "from langgraph.graph import StateGraph, START, END\n",
    "\n",
    "# Define Graph Builder\n",
    "workflow = StateGraph(\n",
    "    GraphState,\n",
    "    input=InputState,\n",
    "    output=OutputState\n",
    ")\n",
    "\n",
    "# Add nodes\n",
    "workflow.add_node(\"chatbot\", chatbot_node)\n",
    "workflow.add_node(\"show_messages\", show_messages_node)\n",
    "\n",
    "# Add edges\n",
    "workflow.add_edge(START, \"chatbot\")\n",
    "workflow.add_edge(\"chatbot\", \"show_messages\")\n",
    "workflow.add_edge(\"show_messages\", END)\n",
    "\n",
    "# Compile Graph\n",
    "app = workflow.compile()\n",
    "\n",
    "app"
   ]
  },
  {
   "cell_type": "code",
   "execution_count": 10,
   "id": "6ee9bda1",
   "metadata": {},
   "outputs": [
    {
     "name": "stdout",
     "output_type": "stream",
     "text": [
      "================================\u001b[1m Human Message \u001b[0m=================================\n",
      "\n",
      "안녕\n",
      "==================================\u001b[1m Ai Message \u001b[0m==================================\n",
      "\n",
      "안녕하세요! 무엇을 도와드릴까요?\n"
     ]
    },
    {
     "data": {
      "text/plain": [
       "{'answer': '안녕하세요! 무엇을 도와드릴까요?'}"
      ]
     },
     "execution_count": 10,
     "metadata": {},
     "output_type": "execute_result"
    }
   ],
   "source": [
    "app.invoke({'query' : '안녕'})"
   ]
  },
  {
   "cell_type": "code",
   "execution_count": null,
   "id": "20c59bac",
   "metadata": {},
   "outputs": [],
   "source": []
  }
 ],
 "metadata": {
  "kernelspec": {
   "display_name": "llm",
   "language": "python",
   "name": "python3"
  },
  "language_info": {
   "codemirror_mode": {
    "name": "ipython",
    "version": 3
   },
   "file_extension": ".py",
   "mimetype": "text/x-python",
   "name": "python",
   "nbconvert_exporter": "python",
   "pygments_lexer": "ipython3",
   "version": "3.10.16"
  }
 },
 "nbformat": 4,
 "nbformat_minor": 5
}
