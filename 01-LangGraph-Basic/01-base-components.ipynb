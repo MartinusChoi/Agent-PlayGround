{
 "cells": [
  {
   "cell_type": "markdown",
   "id": "afc56083",
   "metadata": {},
   "source": [
    "# LangGraph 기본 구성요소\n",
    "\n",
    "1. `State`\n",
    "2. `Nodes`\n",
    "3. `Edges`"
   ]
  },
  {
   "cell_type": "markdown",
   "id": "de8dbfc4",
   "metadata": {},
   "source": [
    "## 1. `State`\n",
    "\n",
    "> Graph의 현재 상태를 나타내는 데이터 구조\n",
    "\n",
    "> 주로 `TypedDict`, pydantic `BaseModel` 로 정의할 수 있음"
   ]
  },
  {
   "cell_type": "markdown",
   "id": "33546f6e",
   "metadata": {},
   "source": [
    "### 1-1. State 정의하기"
   ]
  },
  {
   "cell_type": "code",
   "execution_count": 10,
   "id": "66b7f87b",
   "metadata": {},
   "outputs": [
    {
     "name": "stdout",
     "output_type": "stream",
     "text": [
      "{'id': 1, 'name': 'martinus_choi', 'email': 'martinus.choi@gmail.com'}\n",
      "{'id': 2, 'name': 123, 'email': 'martinus.choi@gmail.com'}\n"
     ]
    }
   ],
   "source": [
    "# Define State with TypedDict\n",
    "\n",
    "from typing import TypedDict\n",
    "\n",
    "class State(TypedDict):\n",
    "    id: int\n",
    "    name: str\n",
    "    email: str\n",
    "\n",
    "state_data = {\n",
    "    'id' : 1,\n",
    "    'name' : 'martinus_choi',\n",
    "    'email' : 'martinus.choi@gmail.com'\n",
    "}\n",
    "state_1 = State(**state_data)\n",
    "\n",
    "state_data: State = {\n",
    "    'id' : 2,\n",
    "    'name' : 123,\n",
    "    'email' : 'martinus.choi@gmail.com'\n",
    "}\n",
    "state_2 = State(**state_data)\n",
    "\n",
    "print(state_1)\n",
    "print(state_2)"
   ]
  },
  {
   "cell_type": "markdown",
   "id": "0a0e5ff8",
   "metadata": {},
   "source": [
    "`TypedDict`는 데이터 유효성 검사를 수행하지 않음, 미리 지정한 타입의 데이터가 들어오지 않아도 에러가 발생하지 않음"
   ]
  },
  {
   "cell_type": "code",
   "execution_count": 8,
   "id": "84cb48aa",
   "metadata": {},
   "outputs": [
    {
     "name": "stdout",
     "output_type": "stream",
     "text": [
      "id=1 name='martinus_choi' email='martinus.choi@gmail.com'\n"
     ]
    }
   ],
   "source": [
    "# Define State with pydantic BaseModel\n",
    "\n",
    "from pydantic import BaseModel\n",
    "\n",
    "class State(BaseModel):\n",
    "    id: int\n",
    "    name: str\n",
    "    email: str\n",
    "\n",
    "state_data = {\n",
    "    'id' : 1,\n",
    "    'name' : 'martinus_choi',\n",
    "    'email' : 'martinus.choi@gmail.com'\n",
    "}\n",
    "state_1 = State(**state_data)\n",
    "\n",
    "print(state_1)"
   ]
  },
  {
   "cell_type": "code",
   "execution_count": 9,
   "id": "05a505af",
   "metadata": {},
   "outputs": [
    {
     "ename": "ValidationError",
     "evalue": "1 validation error for State\nname\n  Input should be a valid string [type=string_type, input_value=123, input_type=int]\n    For further information visit https://errors.pydantic.dev/2.9/v/string_type",
     "output_type": "error",
     "traceback": [
      "\u001b[0;31m---------------------------------------------------------------------------\u001b[0m",
      "\u001b[0;31mValidationError\u001b[0m                           Traceback (most recent call last)",
      "Cell \u001b[0;32mIn[9], line 6\u001b[0m\n\u001b[1;32m      1\u001b[0m state_data: State \u001b[38;5;241m=\u001b[39m {\n\u001b[1;32m      2\u001b[0m     \u001b[38;5;124m'\u001b[39m\u001b[38;5;124mid\u001b[39m\u001b[38;5;124m'\u001b[39m : \u001b[38;5;241m2\u001b[39m,\n\u001b[1;32m      3\u001b[0m     \u001b[38;5;124m'\u001b[39m\u001b[38;5;124mname\u001b[39m\u001b[38;5;124m'\u001b[39m : \u001b[38;5;241m123\u001b[39m,\n\u001b[1;32m      4\u001b[0m     \u001b[38;5;124m'\u001b[39m\u001b[38;5;124memail\u001b[39m\u001b[38;5;124m'\u001b[39m : \u001b[38;5;124m'\u001b[39m\u001b[38;5;124mmartinus.choi@gmail.com\u001b[39m\u001b[38;5;124m'\u001b[39m\n\u001b[1;32m      5\u001b[0m }\n\u001b[0;32m----> 6\u001b[0m state_2 \u001b[38;5;241m=\u001b[39m \u001b[43mState\u001b[49m\u001b[43m(\u001b[49m\u001b[38;5;241;43m*\u001b[39;49m\u001b[38;5;241;43m*\u001b[39;49m\u001b[43mstate_data\u001b[49m\u001b[43m)\u001b[49m\n\u001b[1;32m      8\u001b[0m \u001b[38;5;28mprint\u001b[39m(state_2)\n",
      "File \u001b[0;32m/opt/anaconda3/envs/llm/lib/python3.10/site-packages/pydantic/main.py:212\u001b[0m, in \u001b[0;36mBaseModel.__init__\u001b[0;34m(self, **data)\u001b[0m\n\u001b[1;32m    210\u001b[0m \u001b[38;5;66;03m# `__tracebackhide__` tells pytest and some other tools to omit this function from tracebacks\u001b[39;00m\n\u001b[1;32m    211\u001b[0m __tracebackhide__ \u001b[38;5;241m=\u001b[39m \u001b[38;5;28;01mTrue\u001b[39;00m\n\u001b[0;32m--> 212\u001b[0m validated_self \u001b[38;5;241m=\u001b[39m \u001b[38;5;28;43mself\u001b[39;49m\u001b[38;5;241;43m.\u001b[39;49m\u001b[43m__pydantic_validator__\u001b[49m\u001b[38;5;241;43m.\u001b[39;49m\u001b[43mvalidate_python\u001b[49m\u001b[43m(\u001b[49m\u001b[43mdata\u001b[49m\u001b[43m,\u001b[49m\u001b[43m \u001b[49m\u001b[43mself_instance\u001b[49m\u001b[38;5;241;43m=\u001b[39;49m\u001b[38;5;28;43mself\u001b[39;49m\u001b[43m)\u001b[49m\n\u001b[1;32m    213\u001b[0m \u001b[38;5;28;01mif\u001b[39;00m \u001b[38;5;28mself\u001b[39m \u001b[38;5;129;01mis\u001b[39;00m \u001b[38;5;129;01mnot\u001b[39;00m validated_self:\n\u001b[1;32m    214\u001b[0m     warnings\u001b[38;5;241m.\u001b[39mwarn(\n\u001b[1;32m    215\u001b[0m         \u001b[38;5;124m'\u001b[39m\u001b[38;5;124mA custom validator is returning a value other than `self`.\u001b[39m\u001b[38;5;130;01m\\n\u001b[39;00m\u001b[38;5;124m'\u001b[39m\n\u001b[1;32m    216\u001b[0m         \u001b[38;5;124m\"\u001b[39m\u001b[38;5;124mReturning anything other than `self` from a top level model validator isn\u001b[39m\u001b[38;5;124m'\u001b[39m\u001b[38;5;124mt supported when validating via `__init__`.\u001b[39m\u001b[38;5;130;01m\\n\u001b[39;00m\u001b[38;5;124m\"\u001b[39m\n\u001b[1;32m    217\u001b[0m         \u001b[38;5;124m'\u001b[39m\u001b[38;5;124mSee the `model_validator` docs (https://docs.pydantic.dev/latest/concepts/validators/#model-validators) for more details.\u001b[39m\u001b[38;5;124m'\u001b[39m,\n\u001b[1;32m    218\u001b[0m         category\u001b[38;5;241m=\u001b[39m\u001b[38;5;28;01mNone\u001b[39;00m,\n\u001b[1;32m    219\u001b[0m     )\n",
      "\u001b[0;31mValidationError\u001b[0m: 1 validation error for State\nname\n  Input should be a valid string [type=string_type, input_value=123, input_type=int]\n    For further information visit https://errors.pydantic.dev/2.9/v/string_type"
     ]
    }
   ],
   "source": [
    "state_data: State = {\n",
    "    'id' : 2,\n",
    "    'name' : 123,\n",
    "    'email' : 'martinus.choi@gmail.com'\n",
    "}\n",
    "state_2 = State(**state_data)\n",
    "\n",
    "print(state_2)"
   ]
  },
  {
   "cell_type": "markdown",
   "id": "51519eb5",
   "metadata": {},
   "source": [
    "pydantic `BaseModel`은 데이터 유효성 검사를 수행하기 때문에, 미리 지정한 데이터 타입의 데이터가 들어오지 않으면 에러가 발생함"
   ]
  },
  {
   "cell_type": "markdown",
   "id": "d939e103",
   "metadata": {},
   "source": [
    "### 1-2. Graph Schema 지정하기\n",
    "\n",
    "> Graph에서 사용할 State의 구조를 미리 지정함\n",
    "\n",
    "> 추가로 입력 State의 구조와 출력 State의 구조를 지정할 수 도 있음 "
   ]
  },
  {
   "cell_type": "code",
   "execution_count": 6,
   "id": "b09139ac",
   "metadata": {},
   "outputs": [],
   "source": [
    "from langgraph.graph import StateGraph, START, END\n",
    "from typing_extensions import TypedDict\n",
    "\n",
    "# Define Input Schema\n",
    "class InputState(TypedDict):\n",
    "    question: str\n",
    "\n",
    "# Define Output Schema\n",
    "class OutputState(TypedDict):\n",
    "    answer: str\n",
    "\n",
    "# Define Graph State Schema\n",
    "class OverallState(InputState, OutputState):\n",
    "    id: int"
   ]
  },
  {
   "cell_type": "code",
   "execution_count": 7,
   "id": "15b2ff8a",
   "metadata": {},
   "outputs": [],
   "source": [
    "# Define Node\n",
    "def answer_node(state: InputState):\n",
    "    new_state = {\n",
    "        \"answer\" : \"bye\",\n",
    "        \"id\" : 0,\n",
    "        \"question\" : state[\"question\"]\n",
    "    }\n",
    "\n",
    "    print(new_state)\n",
    "\n",
    "    return new_state "
   ]
  },
  {
   "cell_type": "code",
   "execution_count": null,
   "id": "0b5fbbc1",
   "metadata": {},
   "outputs": [],
   "source": [
    "# input : set input state schema\n",
    "# output : set output state schema\n",
    "workflow = StateGraph(OverallState, input=InputState, output=OutputState)\n",
    "\n",
    "# add nodes\n",
    "workflow.add_node(answer_node, \"answer_node\")\n",
    "\n",
    "# add edges\n",
    "workflow.add_edge(START, \"answer_node\")\n",
    "workflow.add_edge(\"answer_node\", END)\n",
    "\n",
    "# compile graph\n",
    "app = workflow.compile()"
   ]
  },
  {
   "cell_type": "code",
   "execution_count": 9,
   "id": "4b4f03a7",
   "metadata": {},
   "outputs": [
    {
     "name": "stdout",
     "output_type": "stream",
     "text": [
      "{'answer': 'bye', 'id': 0, 'question': 'hi'}\n",
      "{'answer': 'bye'}\n"
     ]
    }
   ],
   "source": [
    "print(app.invoke({\"question\" : \"hi\"}))"
   ]
  },
  {
   "cell_type": "code",
   "execution_count": 10,
   "id": "1862a5b9",
   "metadata": {},
   "outputs": [
    {
     "data": {
      "image/png": "[encoded data removed]",
      "text/plain": [
       "<langgraph.graph.state.CompiledStateGraph object at 0x106daf1f0>"
      ]
     },
     "execution_count": 10,
     "metadata": {},
     "output_type": "execute_result"
    }
   ],
   "source": [
    "app"
   ]
  },
  {
   "cell_type": "markdown",
   "id": "f119e817",
   "metadata": {},
   "source": [
    "### 1-3. Reducer 지정하기\n",
    "\n",
    "> 리듀서(Reducer) : 노드에서 수행되는 작업을 통해 State에 적용되는 업데이트가 어떻게 적용될 지 지정하는 함수"
   ]
  },
  {
   "cell_type": "markdown",
   "id": "e3832da5",
   "metadata": {},
   "source": [
    "- Annotated는 타입 + 메타데이터(여기서는 reducer 함수)를 결합하는 역할만 함\n",
    "- 실제로 상태 업데이트 시 reducer(operator.add 등)는 LangGraph가 읽어서 동작 방식(덮어쓰기 vs. 누적 등)을 결정함\n",
    "- Annotated 자체는 동작을 수행하지 않음. 동작의 주체는 LangGraph임"
   ]
  },
  {
   "cell_type": "code",
   "execution_count": 11,
   "id": "a7f32821",
   "metadata": {},
   "outputs": [],
   "source": [
    "# without Reducer\n",
    "from typing_extensions import TypedDict\n",
    "\n",
    "class State(TypedDict):\n",
    "    value_1: int\n",
    "    value_2: list[str]"
   ]
  },
  {
   "cell_type": "code",
   "execution_count": 12,
   "id": "8a4ee265",
   "metadata": {},
   "outputs": [],
   "source": [
    "# with Reducer (operator.add)\n",
    "from typing_extensions import TypedDict\n",
    "from typing import Annotated\n",
    "from operator import add\n",
    "\n",
    "class State(TypedDict):\n",
    "    value_1: int\n",
    "    value_2: Annotated[list[str], add]"
   ]
  },
  {
   "cell_type": "code",
   "execution_count": 13,
   "id": "42da3297",
   "metadata": {},
   "outputs": [],
   "source": [
    "# with Reducer (custom add)\n",
    "from typing_extensions import TypedDict\n",
    "from typing import Annotated\n",
    "\n",
    "def add(left, right):\n",
    "    return left + right\n",
    "\n",
    "class State(TypedDict):\n",
    "    value_1: int\n",
    "    value_2: Annotated[list[str], add]"
   ]
  },
  {
   "cell_type": "code",
   "execution_count": 14,
   "id": "a7cae458",
   "metadata": {},
   "outputs": [],
   "source": [
    "# with Reducer (add_messages)\n",
    "from typing_extensions import TypedDict\n",
    "from langchain_core.messages import AnyMessage\n",
    "from langgraph.graph.message import add_messages\n",
    "from typing import Annotated\n",
    "\n",
    "class State(TypedDict):\n",
    "    value_1: int\n",
    "    messages: Annotated[list[AnyMessage], add_messages]"
   ]
  },
  {
   "cell_type": "markdown",
   "id": "af0d361b",
   "metadata": {},
   "source": [
    "# 2. `Nodes`"
   ]
  },
  {
   "cell_type": "markdown",
   "id": "b7148bc7",
   "metadata": {},
   "source": [
    "### 2-1. Node를 그래프에 추가하기 (`add_node`)"
   ]
  },
  {
   "cell_type": "code",
   "execution_count": 32,
   "id": "76846096",
   "metadata": {},
   "outputs": [],
   "source": [
    "from typing_extensions import TypedDict\n",
    "\n",
    "class InputState(TypedDict):\n",
    "    user_query: str\n",
    "\n",
    "class OutputState(TypedDict):\n",
    "    result: str\n",
    "\n",
    "class GraphState(InputState, OutputState):\n",
    "    pass\n",
    "\n",
    "def node_1(state: InputState):\n",
    "    print(f\"Node 1 : {state}\")\n",
    "    return {\n",
    "        'result' : state['user_query'] + '_node_1'\n",
    "    }\n",
    "\n",
    "def node_2(state: GraphState):\n",
    "    print(f\"Node 2 : {state}\")\n",
    "    return {\n",
    "        'result' : state['result'] + '_node_2'\n",
    "    }"
   ]
  },
  {
   "cell_type": "code",
   "execution_count": 33,
   "id": "f2897454",
   "metadata": {},
   "outputs": [],
   "source": [
    "from langgraph.graph import StateGraph, START, END\n",
    "\n",
    "workflow = StateGraph(\n",
    "    GraphState,\n",
    "    input=InputState,\n",
    "    output=OutputState\n",
    ")\n",
    "\n",
    "workflow.add_node(\"node_1\", node_1)\n",
    "workflow.add_node(\"node_2\", node_2)\n",
    "\n",
    "workflow.add_edge(START, \"node_1\")\n",
    "workflow.add_edge(\"node_1\", \"node_2\")\n",
    "workflow.add_edge(\"node_2\", END)\n",
    "\n",
    "app = workflow.compile()"
   ]
  },
  {
   "cell_type": "code",
   "execution_count": 34,
   "id": "70dbf4dc",
   "metadata": {},
   "outputs": [
    {
     "name": "stdout",
     "output_type": "stream",
     "text": [
      "Node 1 : {'user_query': 'hello'}\n",
      "Node 2 : {'user_query': 'hello', 'result': 'hello_node_1'}\n",
      "{'result': 'hello_node_1_node_2'}\n"
     ]
    }
   ],
   "source": [
    "print(app.invoke({\"user_query\" : \"hello\"}))"
   ]
  },
  {
   "cell_type": "markdown",
   "id": "d7dc7da6",
   "metadata": {},
   "source": [
    "### 1-2. Node의 기능 구현하기"
   ]
  },
  {
   "cell_type": "code",
   "execution_count": 35,
   "id": "8e0325a3",
   "metadata": {},
   "outputs": [],
   "source": [
    "from typing import Annotated\n",
    "from typing_extensions import TypedDict\n",
    "from langchain_core.messages import (\n",
    "    HumanMessage,\n",
    "    AIMessage,\n",
    "    AnyMessage\n",
    ")\n",
    "from langgraph.graph.message import add_messages\n",
    "\n",
    "class InputState(TypedDict):\n",
    "    query: str\n",
    "\n",
    "class OutputState(TypedDict):\n",
    "    answer: str\n",
    "\n",
    "class GraphState(InputState, OutputState):\n",
    "    messages: Annotated[list[AnyMessage], add_messages]"
   ]
  },
  {
   "cell_type": "code",
   "execution_count": 46,
   "id": "1aa28b5f",
   "metadata": {},
   "outputs": [],
   "source": [
    "def chatbot_node(state: InputState):\n",
    "    query = state['query']\n",
    "    user_message = HumanMessage(content=query)\n",
    "    \n",
    "    answer = \"무엇을 도와드릴까요?\"\n",
    "    ai_message = AIMessage(content=answer)\n",
    "\n",
    "    return {\n",
    "        'answer' : answer,\n",
    "        'messages' : [user_message, ai_message]\n",
    "    }\n",
    "\n",
    "def show_messages_node(state: GraphState):\n",
    "    for message in state[\"messages\"]:\n",
    "        print(message)\n",
    "\n",
    "    return state"
   ]
  },
  {
   "cell_type": "code",
   "execution_count": 47,
   "id": "fbb375f3",
   "metadata": {},
   "outputs": [
    {
     "data": {
      "image/png": "[encoded data removed]",
      "text/plain": [
       "<langgraph.graph.state.CompiledStateGraph object at 0x10a007700>"
      ]
     },
     "execution_count": 47,
     "metadata": {},
     "output_type": "execute_result"
    }
   ],
   "source": [
    "from langgraph.graph import StateGraph, START, END\n",
    "\n",
    "workflow = StateGraph(\n",
    "    GraphState,\n",
    "    input=InputState,\n",
    "    output=OutputState\n",
    ")\n",
    "\n",
    "workflow.add_node(\"chatbot\", chatbot_node)\n",
    "workflow.add_node(\"show_messages\", show_messages_node)\n",
    "\n",
    "workflow.add_edge(START, \"chatbot\")\n",
    "workflow.add_edge(\"chatbot\", \"show_messages\")\n",
    "workflow.add_edge(\"show_messages\", END)\n",
    "\n",
    "app = workflow.compile()\n",
    "\n",
    "app"
   ]
  },
  {
   "cell_type": "code",
   "execution_count": 48,
   "id": "6c3b20ec",
   "metadata": {},
   "outputs": [
    {
     "name": "stdout",
     "output_type": "stream",
     "text": [
      "content='안녕' additional_kwargs={} response_metadata={} id='52f8277e-c0c5-48cf-86be-0af364b086f8'\n",
      "content='무엇을 도와드릴까요?' additional_kwargs={} response_metadata={} id='aa885eec-3031-4a41-87a7-e9152009147d'\n"
     ]
    },
    {
     "data": {
      "text/plain": [
       "{'answer': '무엇을 도와드릴까요?'}"
      ]
     },
     "execution_count": 48,
     "metadata": {},
     "output_type": "execute_result"
    }
   ],
   "source": [
    "app.invoke({\"query\" : \"안녕\"})"
   ]
  },
  {
   "cell_type": "markdown",
   "id": "444329cd",
   "metadata": {},
   "source": [
    "## 3. `Edges`\n",
    "\n",
    "> 기본적인 엣지는 `.add_edge(\"node_a\", \"node_b\")` 메서드를 통해 추가할 수 있다.\n",
    ">> 매개변수로 전달되는 것은 노드의 이름이다."
   ]
  },
  {
   "cell_type": "markdown",
   "id": "c4b562e0",
   "metadata": {},
   "source": [
    "### 3-1. 조건부 엣지로 Routing 하기"
   ]
  },
  {
   "cell_type": "code",
   "execution_count": 49,
   "id": "85fd7690",
   "metadata": {},
   "outputs": [
    {
     "data": {
      "image/png": "[encoded data removed]",
      "text/plain": [
       "<langgraph.graph.state.CompiledStateGraph object at 0x10a005300>"
      ]
     },
     "execution_count": 49,
     "metadata": {},
     "output_type": "execute_result"
    }
   ],
   "source": [
    "from typing_extensions import TypedDict\n",
    "\n",
    "# Define State\n",
    "class State(TypedDict):\n",
    "    input_val: str\n",
    "    output_val: str\n",
    "\n",
    "# Define Nodes\n",
    "def node_a(state: State):\n",
    "    return {\n",
    "        \"output_val\" : \"a\"\n",
    "    }\n",
    "\n",
    "def node_b(state: State):\n",
    "    return {\n",
    "        \"output_val\" : \"b\"\n",
    "    }\n",
    "\n",
    "# Define Edges\n",
    "def routing_function(state: State):\n",
    "    if state['input_val'] == \"a\":\n",
    "        return \"node_a\"\n",
    "    else:\n",
    "        return \"node_b\"\n",
    "\n",
    "\n",
    "# Define Grpah Builder\n",
    "workflow = StateGraph(State)\n",
    "\n",
    "# Add nodes\n",
    "workflow.add_node(\"node_a\", node_a)\n",
    "workflow.add_node(\"node_b\", node_b)\n",
    "\n",
    "# add edges\n",
    "workflow.add_conditional_edges(\n",
    "    START,\n",
    "    routing_function,\n",
    "    {\n",
    "        \"node_a\" : \"node_a\",\n",
    "        \"node_b\" : \"node_b\"\n",
    "    }\n",
    ")\n",
    "workflow.add_edge(\"node_a\", END)\n",
    "workflow.add_edge(\"node_b\", END)\n",
    "\n",
    "# Compile Graph\n",
    "app = workflow.compile()\n",
    "\n",
    "app"
   ]
  },
  {
   "cell_type": "code",
   "execution_count": 50,
   "id": "15b47515",
   "metadata": {},
   "outputs": [
    {
     "data": {
      "text/plain": [
       "{'input_val': 'a', 'output_val': 'a'}"
      ]
     },
     "execution_count": 50,
     "metadata": {},
     "output_type": "execute_result"
    }
   ],
   "source": [
    "app.invoke({\"input_val\" : \"a\"})"
   ]
  },
  {
   "cell_type": "code",
   "execution_count": 52,
   "id": "2dec26fc",
   "metadata": {},
   "outputs": [
    {
     "data": {
      "text/plain": [
       "{'input_val': 'b', 'output_val': 'b'}"
      ]
     },
     "execution_count": 52,
     "metadata": {},
     "output_type": "execute_result"
    }
   ],
   "source": [
    "app.invoke({\"input_val\" : \"b\"})"
   ]
  }
 ],
 "metadata": {
  "kernelspec": {
   "display_name": "llm",
   "language": "python",
   "name": "python3"
  },
  "language_info": {
   "codemirror_mode": {
    "name": "ipython",
    "version": 3
   },
   "file_extension": ".py",
   "mimetype": "text/x-python",
   "name": "python",
   "nbconvert_exporter": "python",
   "pygments_lexer": "ipython3",
   "version": "3.10.16"
  }
 },
 "nbformat": 4,
 "nbformat_minor": 5
}
