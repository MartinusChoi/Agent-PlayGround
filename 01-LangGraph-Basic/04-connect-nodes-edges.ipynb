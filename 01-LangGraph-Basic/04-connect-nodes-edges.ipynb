{
 "cells": [
  {
   "cell_type": "markdown",
   "id": "1d071235",
   "metadata": {},
   "source": [
    "# Graph에서 Node와 Edge 연결하기"
   ]
  },
  {
   "cell_type": "markdown",
   "id": "bc9c3691",
   "metadata": {},
   "source": [
    "## 1. 일련의 노드를 한번에 연결하기 (`.add_sequence`)"
   ]
  },
  {
   "cell_type": "code",
   "execution_count": 1,
   "id": "7f88609c",
   "metadata": {},
   "outputs": [],
   "source": [
    "from typing_extensions import TypedDict\n",
    "\n",
    "# Define State\n",
    "class State(TypedDict):\n",
    "    aggregates: str"
   ]
  },
  {
   "cell_type": "code",
   "execution_count": 2,
   "id": "cf824a1f",
   "metadata": {},
   "outputs": [],
   "source": [
    "# Define Nodes\n",
    "def node_1(state: State):\n",
    "    prev_val = state['aggregates']\n",
    "\n",
    "    return {\n",
    "        'aggregates' : prev_val + '_node1'\n",
    "    }\n",
    "\n",
    "def node_2(state: State):\n",
    "    prev_val = state['aggregates']\n",
    "\n",
    "    return {\n",
    "        'aggregates' : prev_val + '_node2'\n",
    "    }\n",
    "\n",
    "def node_3(state: State):\n",
    "    prev_val = state['aggregates']\n",
    "\n",
    "    return {\n",
    "        'aggregates' : prev_val + '_node3'\n",
    "    }"
   ]
  },
  {
   "cell_type": "code",
   "execution_count": 5,
   "id": "b10e34a0",
   "metadata": {},
   "outputs": [
    {
     "data": {
      "image/png": "[encoded data removed]",
      "text/plain": [
       "<langgraph.graph.state.CompiledStateGraph object at 0x11bd0ca90>"
      ]
     },
     "execution_count": 5,
     "metadata": {},
     "output_type": "execute_result"
    }
   ],
   "source": [
    "from langgraph.graph import StateGraph, START, END\n",
    "\n",
    "# Define Graph Builder\n",
    "workflow = StateGraph(State)\n",
    "\n",
    "# add nodes and edges\n",
    "workflow.add_sequence([node_1, node_2, node_3])\n",
    "workflow.add_edge(START, \"node_1\")\n",
    "workflow.add_edge(\"node_3\", END)\n",
    "\n",
    "# compile graph\n",
    "app = workflow.compile()\n",
    "\n",
    "app"
   ]
  },
  {
   "cell_type": "code",
   "execution_count": 6,
   "id": "215a0e5b",
   "metadata": {},
   "outputs": [
    {
     "data": {
      "text/plain": [
       "{'aggregates': 'hello_node1_node2_node3'}"
      ]
     },
     "execution_count": 6,
     "metadata": {},
     "output_type": "execute_result"
    }
   ],
   "source": [
    "app.invoke({\"aggregates\" : \"hello\"})"
   ]
  },
  {
   "cell_type": "markdown",
   "id": "86ef5f9e",
   "metadata": {},
   "source": [
    "## 2. 병렬로 연결하기"
   ]
  },
  {
   "cell_type": "code",
   "execution_count": 15,
   "id": "d67232ab",
   "metadata": {},
   "outputs": [],
   "source": [
    "from typing import Annotated\n",
    "from typing_extensions import TypedDict\n",
    "from langchain_core.messages import (\n",
    "    HumanMessage,\n",
    "    AIMessage,\n",
    "    AnyMessage\n",
    ")\n",
    "from langgraph.graph.message import add_messages\n",
    "from operator import add\n",
    "\n",
    "class GraphState(TypedDict):\n",
    "    query: str\n",
    "    messages: Annotated[list[AnyMessage], add_messages]"
   ]
  },
  {
   "cell_type": "code",
   "execution_count": 19,
   "id": "586e7dac",
   "metadata": {},
   "outputs": [],
   "source": [
    "def node_a(state: GraphState):\n",
    "    query = state['query']\n",
    "    user_message = HumanMessage(content=query)\n",
    "\n",
    "    cur_node = 'a'\n",
    "    ai_message = AIMessage(content=f\"저는 '{cur_node}'를 방문했습니다.\")\n",
    "\n",
    "    return {\n",
    "        'messages' : [user_message, ai_message]\n",
    "    }\n",
    "\n",
    "def node_b(state: GraphState):\n",
    "    cur_node = 'b'\n",
    "    ai_message = AIMessage(content=f\"저는 '{cur_node}'를 방문했습니다.\")\n",
    "\n",
    "    return {\n",
    "        'messages' : [ai_message]\n",
    "    }\n",
    "\n",
    "def node_c(state: GraphState):\n",
    "    cur_node = 'c'\n",
    "    ai_message = AIMessage(content=f\"저는 '{cur_node}'를 방문했습니다.\")\n",
    "\n",
    "    return {\n",
    "        'messages' : [ai_message]\n",
    "    }\n",
    "\n",
    "def node_d(state: GraphState):\n",
    "    cur_node = 'd'\n",
    "    ai_message = AIMessage(content=f\"저는 '{cur_node}'를 방문했습니다.\")\n",
    "\n",
    "    return {\n",
    "        'messages' : [ai_message]\n",
    "    }"
   ]
  },
  {
   "cell_type": "code",
   "execution_count": 20,
   "id": "87964606",
   "metadata": {},
   "outputs": [
    {
     "data": {
      "image/png": "[encoded data removed]",
      "text/plain": [
       "<langgraph.graph.state.CompiledStateGraph object at 0x11cde98d0>"
      ]
     },
     "execution_count": 20,
     "metadata": {},
     "output_type": "execute_result"
    }
   ],
   "source": [
    "from langgraph.graph import StateGraph, START, END\n",
    "\n",
    "workflow = StateGraph(\n",
    "    GraphState\n",
    ")\n",
    "\n",
    "workflow.add_node(\"a\", node_a)\n",
    "workflow.add_node(\"b\", node_b)\n",
    "workflow.add_node(\"c\", node_c)\n",
    "workflow.add_node(\"d\", node_d)\n",
    "\n",
    "workflow.add_edge(START, \"a\")\n",
    "workflow.add_edge(\"a\", \"b\")\n",
    "workflow.add_edge(\"a\", \"c\")\n",
    "workflow.add_edge(\"b\", \"d\")\n",
    "workflow.add_edge(\"c\", \"d\")\n",
    "workflow.add_edge(\"d\", END)\n",
    "\n",
    "app = workflow.compile()\n",
    "\n",
    "app"
   ]
  },
  {
   "cell_type": "code",
   "execution_count": 21,
   "id": "adcc8962",
   "metadata": {},
   "outputs": [
    {
     "data": {
      "text/plain": [
       "{'query': '모든 노드를 지나가 보자!',\n",
       " 'messages': [HumanMessage(content='모든 노드를 지나가 보자!', additional_kwargs={}, response_metadata={}, id='edacf190-3857-434e-a161-09ce13aa4eb1'),\n",
       "  AIMessage(content=\"저는 'a'를 방문했습니다.\", additional_kwargs={}, response_metadata={}, id='053f8fab-bf8a-4725-b2e9-04fe5f20bc5f'),\n",
       "  AIMessage(content=\"저는 'b'를 방문했습니다.\", additional_kwargs={}, response_metadata={}, id='378fcd5a-c93f-46a2-aad2-014dd55a332b'),\n",
       "  AIMessage(content=\"저는 'c'를 방문했습니다.\", additional_kwargs={}, response_metadata={}, id='b1423ddd-62dd-421d-b8c7-e1d0a371f664'),\n",
       "  AIMessage(content=\"저는 'd'를 방문했습니다.\", additional_kwargs={}, response_metadata={}, id='bd89b43d-446f-4ef9-ad28-c67a407476de')]}"
      ]
     },
     "execution_count": 21,
     "metadata": {},
     "output_type": "execute_result"
    }
   ],
   "source": [
    "app.invoke({\"query\" : \"모든 노드를 지나가 보자!\"})"
   ]
  },
  {
   "cell_type": "markdown",
   "id": "a3a82d63",
   "metadata": {},
   "source": [
    "## 3. 조건부 엣지로 병렬 연결하기"
   ]
  },
  {
   "cell_type": "code",
   "execution_count": 22,
   "id": "628c5e76",
   "metadata": {},
   "outputs": [],
   "source": [
    "from typing import Annotated\n",
    "from typing_extensions import TypedDict\n",
    "from langchain_core.messages import (\n",
    "    HumanMessage,\n",
    "    AIMessage,\n",
    "    AnyMessage\n",
    ")\n",
    "from langgraph.graph.message import add_messages\n",
    "\n",
    "class State(TypedDict):\n",
    "    query: str\n",
    "    messages: Annotated[list[AnyMessage], add_messages]"
   ]
  },
  {
   "cell_type": "code",
   "execution_count": 23,
   "id": "8206bf3f",
   "metadata": {},
   "outputs": [],
   "source": [
    "def node_a(state: State):\n",
    "    query = state['query']\n",
    "    user_message = HumanMessage(content=query)\n",
    "\n",
    "    answer = \"저는 'a'를 방문했습니다.\"\n",
    "    ai_message = AIMessage(content=answer)\n",
    "\n",
    "    return {\n",
    "        \"messages\": [user_message, ai_message]\n",
    "    }\n",
    "\n",
    "def node_b(state: State):\n",
    "    answer = \"저는 'b'를 방문했습니다.\"\n",
    "    ai_message = AIMessage(content=answer)\n",
    "\n",
    "    return {\n",
    "        \"messages\": [ai_message]\n",
    "    }\n",
    "\n",
    "def node_c(state: State):\n",
    "    answer = \"저는 'c'를 방문했습니다.\"\n",
    "    ai_message = AIMessage(content=answer)\n",
    "\n",
    "    return {\n",
    "        \"messages\": [ai_message]\n",
    "    }\n",
    "\n",
    "def node_d(state: State):\n",
    "    answer = \"저는 'd'를 방문했습니다.\"\n",
    "    ai_message = AIMessage(content=answer)\n",
    "\n",
    "    return {\n",
    "        \"messages\": [ai_message]\n",
    "    }\n",
    "\n",
    "def node_e(state: State):\n",
    "    answer = \"저는 'e'를 방문했습니다.\"\n",
    "    ai_message = AIMessage(content=answer)\n",
    "\n",
    "    return {\n",
    "        \"messages\": [ai_message]\n",
    "    }"
   ]
  },
  {
   "cell_type": "code",
   "execution_count": 28,
   "id": "5ce02322",
   "metadata": {},
   "outputs": [],
   "source": [
    "def conditional_routing(state: State):\n",
    "    route_nodes = []\n",
    "\n",
    "    if \"b\" in state['query']: route_nodes.append(\"b\")\n",
    "    if \"c\" in state['query']: route_nodes.append(\"c\")\n",
    "    if \"d\" in state['query']: route_nodes.append(\"d\")\n",
    "\n",
    "    return route_nodes"
   ]
  },
  {
   "cell_type": "code",
   "execution_count": 29,
   "id": "724dadbc",
   "metadata": {},
   "outputs": [
    {
     "data": {
      "image/png": "[encoded data removed]",
      "text/plain": [
       "<langgraph.graph.state.CompiledStateGraph object at 0x11cdea0e0>"
      ]
     },
     "execution_count": 29,
     "metadata": {},
     "output_type": "execute_result"
    }
   ],
   "source": [
    "from langgraph.graph import StateGraph, START, END\n",
    "\n",
    "workflow = StateGraph(State)\n",
    "\n",
    "workflow.add_node(\"a\", node_a)\n",
    "workflow.add_node(\"b\", node_b)\n",
    "workflow.add_node(\"c\", node_c)\n",
    "workflow.add_node(\"d\", node_d)\n",
    "workflow.add_node(\"e\", node_e)\n",
    "\n",
    "intermidiates = [\"b\", \"c\", \"d\"]\n",
    "workflow.add_edge(START, \"a\")\n",
    "workflow.add_conditional_edges(\n",
    "    \"a\",\n",
    "    conditional_routing,\n",
    "    intermidiates\n",
    ")\n",
    "for node_name in intermidiates:\n",
    "    workflow.add_edge(node_name, \"e\")\n",
    "\n",
    "app = workflow.compile()\n",
    "\n",
    "app"
   ]
  },
  {
   "cell_type": "code",
   "execution_count": 35,
   "id": "925f76ad",
   "metadata": {},
   "outputs": [
    {
     "data": {
      "text/plain": [
       "{'query': 'bd',\n",
       " 'messages': [HumanMessage(content='bd', additional_kwargs={}, response_metadata={}, id='d03068b0-0f23-42d4-8c1d-5209bc707fb8'),\n",
       "  AIMessage(content=\"저는 'a'를 방문했습니다.\", additional_kwargs={}, response_metadata={}, id='619c9a6a-30e5-4e18-8951-9b18e92f2f26'),\n",
       "  AIMessage(content=\"저는 'b'를 방문했습니다.\", additional_kwargs={}, response_metadata={}, id='cc9681d4-3fe2-41e4-931f-27a7e7f694cc'),\n",
       "  AIMessage(content=\"저는 'd'를 방문했습니다.\", additional_kwargs={}, response_metadata={}, id='ab621af8-6f9b-4173-978b-705f3af39f71'),\n",
       "  AIMessage(content=\"저는 'e'를 방문했습니다.\", additional_kwargs={}, response_metadata={}, id='87c16ca9-184e-419e-a236-3a4be58a074c')]}"
      ]
     },
     "execution_count": 35,
     "metadata": {},
     "output_type": "execute_result"
    }
   ],
   "source": [
    "app.invoke({\"query\" : \"bd\"})"
   ]
  },
  {
   "cell_type": "code",
   "execution_count": null,
   "id": "966c3d32",
   "metadata": {},
   "outputs": [],
   "source": []
  }
 ],
 "metadata": {
  "kernelspec": {
   "display_name": "llm",
   "language": "python",
   "name": "python3"
  },
  "language_info": {
   "codemirror_mode": {
    "name": "ipython",
    "version": 3
   },
   "file_extension": ".py",
   "mimetype": "text/x-python",
   "name": "python",
   "nbconvert_exporter": "python",
   "pygments_lexer": "ipython3",
   "version": "3.10.16"
  }
 },
 "nbformat": 4,
 "nbformat_minor": 5
}
