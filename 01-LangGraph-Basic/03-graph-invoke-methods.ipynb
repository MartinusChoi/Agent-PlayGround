{
 "cells": [
  {
   "cell_type": "markdown",
   "id": "ce9f2c98",
   "metadata": {},
   "source": [
    "# 그래프를 실행하는 다양한 방법"
   ]
  },
  {
   "cell_type": "markdown",
   "id": "e37cc91f",
   "metadata": {},
   "source": [
    "## Graph 정의"
   ]
  },
  {
   "cell_type": "code",
   "execution_count": 1,
   "id": "905e2889",
   "metadata": {},
   "outputs": [],
   "source": [
    "from typing import Annotated\n",
    "from typing_extensions import TypedDict\n",
    "from langchain_core.messages import (\n",
    "    HumanMessage,\n",
    "    AIMessage,\n",
    "    AnyMessage\n",
    ")\n",
    "from langgraph.graph.message import add_messages\n",
    "\n",
    "class InputState(TypedDict):\n",
    "    query: str\n",
    "\n",
    "class OutputState(TypedDict):\n",
    "    answer: str\n",
    "\n",
    "class GraphState(InputState, OutputState):\n",
    "    messages: Annotated[list[AnyMessage], add_messages]"
   ]
  },
  {
   "cell_type": "code",
   "execution_count": 22,
   "id": "9ac71e47",
   "metadata": {},
   "outputs": [],
   "source": [
    "def chatbot_1(state: InputState):\n",
    "    query = state['query']\n",
    "    user_message = HumanMessage(content=query)\n",
    "\n",
    "    answer = \"안녕하세요! 저는 챗봇 1 입니다.\"\n",
    "    ai_message = AIMessage(content=answer)\n",
    "\n",
    "    return {\n",
    "        \"messages\" : [user_message, ai_message],\n",
    "        \"answer\" : answer\n",
    "    }\n",
    "\n",
    "def chatbot_2(state: GraphState):\n",
    "    answer = \"안녕하세요! 저는 챗봇 2 입니다.\"\n",
    "    ai_message = AIMessage(content=answer)\n",
    "\n",
    "    return {\n",
    "        \"messages\" : [ai_message],\n",
    "        \"answer\" : answer\n",
    "    }\n",
    "\n",
    "def chatbot_3(state: GraphState):\n",
    "    answer = \"안녕하세요! 저는 챗봇 3 입니다.\"\n",
    "    ai_message = AIMessage(content=answer)\n",
    "\n",
    "    return {\n",
    "        \"messages\" : [ai_message],\n",
    "        \"answer\" : answer\n",
    "    }"
   ]
  },
  {
   "cell_type": "code",
   "execution_count": 23,
   "id": "584f57f4",
   "metadata": {},
   "outputs": [
    {
     "data": {
      "image/png": "[encoded data removed]",
      "text/plain": [
       "<langgraph.graph.state.CompiledStateGraph object at 0x11e01b340>"
      ]
     },
     "execution_count": 23,
     "metadata": {},
     "output_type": "execute_result"
    }
   ],
   "source": [
    "from langgraph.graph import StateGraph, START, END\n",
    "\n",
    "workflow = StateGraph(\n",
    "    GraphState,\n",
    "    input=InputState,\n",
    "    output=OutputState\n",
    ")\n",
    "\n",
    "workflow.add_node(\"chatbot_1\", chatbot_1)\n",
    "workflow.add_node(\"chatbot_2\", chatbot_2)\n",
    "workflow.add_node(\"chatbot_3\", chatbot_3)\n",
    "\n",
    "workflow.add_edge(START, \"chatbot_1\")\n",
    "workflow.add_edge(\"chatbot_1\", \"chatbot_2\")\n",
    "workflow.add_edge(\"chatbot_2\", \"chatbot_3\")\n",
    "workflow.add_edge(\"chatbot_3\", END)\n",
    "\n",
    "app = workflow.compile()\n",
    "\n",
    "app"
   ]
  },
  {
   "cell_type": "markdown",
   "id": "c2a64eff",
   "metadata": {},
   "source": [
    "## `.invoke()`\n",
    "\n",
    "> 하나의 요청에 대한 결과를 받을 때 까지 코드 실행 멈춤. 즉, 한번에 하나의 요청 처리"
   ]
  },
  {
   "cell_type": "code",
   "execution_count": 24,
   "id": "a9ec1222",
   "metadata": {},
   "outputs": [
    {
     "data": {
      "text/plain": [
       "{'answer': '안녕하세요! 저는 챗봇 3 입니다.'}"
      ]
     },
     "execution_count": 24,
     "metadata": {},
     "output_type": "execute_result"
    }
   ],
   "source": [
    "app.invoke({\"query\" : \"안녕\"})"
   ]
  },
  {
   "cell_type": "markdown",
   "id": "32c38eea",
   "metadata": {},
   "source": [
    "## `.ainvoke()`\n",
    "\n",
    "> 비동기 처리 함수. 한번에 여러 요청을 보낼 수 있음"
   ]
  },
  {
   "cell_type": "code",
   "execution_count": 25,
   "id": "228706b4",
   "metadata": {},
   "outputs": [
    {
     "data": {
      "text/plain": [
       "{'answer': '안녕하세요! 저는 챗봇 3 입니다.'}"
      ]
     },
     "execution_count": 25,
     "metadata": {},
     "output_type": "execute_result"
    }
   ],
   "source": [
    "await app.ainvoke({\"query\" : \"안녕\"})"
   ]
  },
  {
   "cell_type": "markdown",
   "id": "df5c1b67",
   "metadata": {},
   "source": [
    "## `.stream()`\n",
    "\n",
    "> 중간 결과를 실시간으로 반환"
   ]
  },
  {
   "cell_type": "markdown",
   "id": "1e14b35e",
   "metadata": {},
   "source": [
    "### `stream_mode=\"values\"`\n",
    "\n",
    "> 각 단계의 현재 state 값 출력\n",
    "- chunk의 key와 value는 각 단계(노드)마다의 state의 key, state의 value 임"
   ]
  },
  {
   "cell_type": "code",
   "execution_count": 26,
   "id": "b5e7923a",
   "metadata": {},
   "outputs": [
    {
     "name": "stdout",
     "output_type": "stream",
     "text": [
      "{'query': '안녕', 'messages': []}\n",
      "================================\u001b[1m Human Message \u001b[0m=================================\n",
      "\n",
      "안녕\n",
      "\n",
      "\n",
      "\n",
      "{'query': '안녕', 'answer': '안녕하세요! 저는 챗봇 1 입니다.', 'messages': [HumanMessage(content='안녕', additional_kwargs={}, response_metadata={}, id='53c6376b-ba78-4af7-ac8a-fbf5657a7b72'), AIMessage(content='안녕하세요! 저는 챗봇 1 입니다.', additional_kwargs={}, response_metadata={}, id='58fdf4e0-f147-4ad9-a1ee-b2eaad6c07d4')]}\n",
      "==================================\u001b[1m Ai Message \u001b[0m==================================\n",
      "\n",
      "안녕하세요! 저는 챗봇 1 입니다.\n",
      "\n",
      "\n",
      "\n",
      "{'query': '안녕', 'answer': '안녕하세요! 저는 챗봇 2 입니다.', 'messages': [HumanMessage(content='안녕', additional_kwargs={}, response_metadata={}, id='53c6376b-ba78-4af7-ac8a-fbf5657a7b72'), AIMessage(content='안녕하세요! 저는 챗봇 1 입니다.', additional_kwargs={}, response_metadata={}, id='58fdf4e0-f147-4ad9-a1ee-b2eaad6c07d4'), AIMessage(content='안녕하세요! 저는 챗봇 2 입니다.', additional_kwargs={}, response_metadata={}, id='5b648226-2110-4f7a-83b1-af59f122d28b')]}\n",
      "==================================\u001b[1m Ai Message \u001b[0m==================================\n",
      "\n",
      "안녕하세요! 저는 챗봇 2 입니다.\n",
      "\n",
      "\n",
      "\n",
      "{'query': '안녕', 'answer': '안녕하세요! 저는 챗봇 3 입니다.', 'messages': [HumanMessage(content='안녕', additional_kwargs={}, response_metadata={}, id='53c6376b-ba78-4af7-ac8a-fbf5657a7b72'), AIMessage(content='안녕하세요! 저는 챗봇 1 입니다.', additional_kwargs={}, response_metadata={}, id='58fdf4e0-f147-4ad9-a1ee-b2eaad6c07d4'), AIMessage(content='안녕하세요! 저는 챗봇 2 입니다.', additional_kwargs={}, response_metadata={}, id='5b648226-2110-4f7a-83b1-af59f122d28b'), AIMessage(content='안녕하세요! 저는 챗봇 3 입니다.', additional_kwargs={}, response_metadata={}, id='3abaf94c-9c45-42ce-872c-6f1f98fa25d8')]}\n",
      "==================================\u001b[1m Ai Message \u001b[0m==================================\n",
      "\n",
      "안녕하세요! 저는 챗봇 3 입니다.\n",
      "\n",
      "\n",
      "\n"
     ]
    }
   ],
   "source": [
    "for chunk in app.stream({\"query\" : \"안녕\"}, stream_mode=\"values\"):\n",
    "    print(chunk)\n",
    "    for state_key, state_value in chunk.items():\n",
    "        if state_key == \"messages\":\n",
    "            if len(state_value) == 0:\n",
    "                HumanMessage(content=\"안녕\").pretty_print()\n",
    "            else:\n",
    "                state_value[-1].pretty_print()\n",
    "    print(\"\\n\\n\")"
   ]
  },
  {
   "cell_type": "markdown",
   "id": "edaf4609",
   "metadata": {},
   "source": [
    "### `stream_mode=\"updates\"` (default)\n",
    "\n",
    "> 각 단계에서 업데이트된 state 값만 출력\n",
    "\n",
    "chunk의 key와 value는 `노드의 이름` 과 `해당 노드에서 업데이트 된 값` 임"
   ]
  },
  {
   "cell_type": "code",
   "execution_count": 27,
   "id": "ec9428e9",
   "metadata": {},
   "outputs": [
    {
     "name": "stdout",
     "output_type": "stream",
     "text": [
      "chatbot_1\n",
      "[HumanMessage(content='안녕', additional_kwargs={}, response_metadata={}, id='4aaec10c-4977-4dd6-894c-852aa7620c9e'), AIMessage(content='안녕하세요! 저는 챗봇 1 입니다.', additional_kwargs={}, response_metadata={}, id='7ff10435-37e6-48d8-8476-32a44884792e')]\n",
      "\n",
      "\n",
      "\n",
      "chatbot_2\n",
      "[AIMessage(content='안녕하세요! 저는 챗봇 2 입니다.', additional_kwargs={}, response_metadata={}, id='4bde741f-ab15-4dad-9c5a-8e4ddfda8580')]\n",
      "\n",
      "\n",
      "\n",
      "chatbot_3\n",
      "[AIMessage(content='안녕하세요! 저는 챗봇 3 입니다.', additional_kwargs={}, response_metadata={}, id='766bdc6f-3ae8-4e70-b86d-e3e4a84d817a')]\n",
      "\n",
      "\n",
      "\n"
     ]
    }
   ],
   "source": [
    "for chunk in app.stream({\"query\" : \"안녕\"}, stream_mode=\"updates\"):\n",
    "    # print(chunk)\n",
    "    for node_name, update_value in chunk.items():\n",
    "        print(node_name)\n",
    "        if ('messages' in update_value) and (len(update_value['messages']) > 0):\n",
    "            print(update_value['messages'])\n",
    "        print(\"\\n\\n\")"
   ]
  },
  {
   "cell_type": "markdown",
   "id": "ba143a65",
   "metadata": {},
   "source": [
    "### `stream_mode=\"message\"`\n",
    "\n",
    "> 각 단계의 메시지를 출력\n",
    "- 메시지\n",
    "- 메타데이터\n",
    "위의 두가지를 key와 value로 제공"
   ]
  },
  {
   "cell_type": "code",
   "execution_count": 28,
   "id": "63f66027",
   "metadata": {},
   "outputs": [
    {
     "name": "stdout",
     "output_type": "stream",
     "text": [
      "안녕\n",
      "{'langgraph_step': 1, 'langgraph_node': 'chatbot_1', 'langgraph_triggers': ('branch:to:chatbot_1',), 'langgraph_path': ('__pregel_pull', 'chatbot_1'), 'langgraph_checkpoint_ns': 'chatbot_1:80a5e8cc-0205-3836-9161-1792df548352'}\n",
      "\n",
      "\n",
      "\n",
      "안녕하세요! 저는 챗봇 1 입니다.\n",
      "{'langgraph_step': 1, 'langgraph_node': 'chatbot_1', 'langgraph_triggers': ('branch:to:chatbot_1',), 'langgraph_path': ('__pregel_pull', 'chatbot_1'), 'langgraph_checkpoint_ns': 'chatbot_1:80a5e8cc-0205-3836-9161-1792df548352'}\n",
      "\n",
      "\n",
      "\n",
      "안녕하세요! 저는 챗봇 2 입니다.\n",
      "{'langgraph_step': 2, 'langgraph_node': 'chatbot_2', 'langgraph_triggers': ('branch:to:chatbot_2',), 'langgraph_path': ('__pregel_pull', 'chatbot_2'), 'langgraph_checkpoint_ns': 'chatbot_2:431e1732-3b13-5e70-5514-faf0ec93b9da'}\n",
      "\n",
      "\n",
      "\n",
      "안녕하세요! 저는 챗봇 3 입니다.\n",
      "{'langgraph_step': 3, 'langgraph_node': 'chatbot_3', 'langgraph_triggers': ('branch:to:chatbot_3',), 'langgraph_path': ('__pregel_pull', 'chatbot_3'), 'langgraph_checkpoint_ns': 'chatbot_3:81106643-b9ae-8542-07b9-b3e0da24cdc7'}\n",
      "\n",
      "\n",
      "\n"
     ]
    }
   ],
   "source": [
    "for chunk_msg, metadata in app.stream({'query' : \"안녕\"}, stream_mode=\"messages\"):\n",
    "    print(chunk_msg.content)\n",
    "    print(metadata)\n",
    "    print(\"\\n\\n\")"
   ]
  }
 ],
 "metadata": {
  "kernelspec": {
   "display_name": "llm",
   "language": "python",
   "name": "python3"
  },
  "language_info": {
   "codemirror_mode": {
    "name": "ipython",
    "version": 3
   },
   "file_extension": ".py",
   "mimetype": "text/x-python",
   "name": "python",
   "nbconvert_exporter": "python",
   "pygments_lexer": "ipython3",
   "version": "3.10.16"
  }
 },
 "nbformat": 4,
 "nbformat_minor": 5
}
